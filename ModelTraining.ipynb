{
 "cells": [
  {
   "cell_type": "code",
   "execution_count": 1,
   "id": "43736ee1",
   "metadata": {},
   "outputs": [],
   "source": [
    "# DataFrame\n",
    "import pandas as pd\n",
    "\n",
    "# Matplot\n",
    "import matplotlib.pyplot as plt\n",
    "%matplotlib inline\n",
    "\n",
    "# Scikit-learn\n",
    "from sklearn.model_selection import train_test_split\n",
    "from sklearn.preprocessing import LabelEncoder\n",
    "from sklearn.metrics import confusion_matrix, classification_report, accuracy_score\n",
    "from sklearn.manifold import TSNE\n",
    "from sklearn.feature_extraction.text import TfidfVectorizer\n",
    "\n",
    "# Keras\n",
    "from keras.preprocessing.text import Tokenizer\n",
    "from keras.preprocessing.sequence import pad_sequences\n",
    "from keras.models import Sequential\n",
    "from keras.layers import Activation, Dense, Dropout, Embedding, Flatten, Conv1D, MaxPooling1D, LSTM\n",
    "from keras import utils\n",
    "from keras.callbacks import ReduceLROnPlateau, EarlyStopping\n",
    "\n",
    "# nltk\n",
    "import nltk\n",
    "from nltk.corpus import stopwords\n",
    "from  nltk.stem import SnowballStemmer\n",
    "\n",
    "# Word2vec\n",
    "import gensim\n",
    "\n",
    "# Utility\n",
    "import re\n",
    "import numpy as np\n",
    "import os\n",
    "from collections import Counter\n",
    "import logging\n",
    "import time\n",
    "import pickle\n",
    "import itertools\n",
    "\n",
    "# Set log\n",
    "logging.basicConfig(format='%(asctime)s : %(levelname)s : %(message)s', level=logging.INFO)"
   ]
  },
  {
   "cell_type": "code",
   "execution_count": 3,
   "id": "77a5503d",
   "metadata": {},
   "outputs": [
    {
     "name": "stderr",
     "output_type": "stream",
     "text": [
      "[nltk_data] Downloading package stopwords to\n",
      "[nltk_data]     C:\\Users\\User\\AppData\\Roaming\\nltk_data...\n",
      "[nltk_data]   Package stopwords is already up-to-date!\n"
     ]
    },
    {
     "data": {
      "text/plain": [
       "True"
      ]
     },
     "execution_count": 3,
     "metadata": {},
     "output_type": "execute_result"
    }
   ],
   "source": [
    "nltk.download('stopwords')"
   ]
  },
  {
   "cell_type": "code",
   "execution_count": 4,
   "id": "9dbe01a4",
   "metadata": {},
   "outputs": [],
   "source": [
    "# DATASET\n",
    "DATASET_COLUMNS = [\"target\", \"ids\", \"date\", \"flag\", \"user\", \"text\"]\n",
    "DATASET_ENCODING = \"ISO-8859-1\"\n",
    "TRAIN_SIZE = 0.8\n",
    "\n",
    "# TEXT CLENAING\n",
    "TEXT_CLEANING_RE = \"@\\S+|https?:\\S+|http?:\\S|[^A-Za-z0-9]+\"\n",
    "\n",
    "# WORD2VEC \n",
    "W2V_SIZE = 300\n",
    "W2V_WINDOW = 7\n",
    "W2V_EPOCH = 32\n",
    "W2V_MIN_COUNT = 10\n",
    "\n",
    "# KERAS\n",
    "SEQUENCE_LENGTH = 300\n",
    "EPOCHS = 8\n",
    "BATCH_SIZE = 1024\n",
    "\n",
    "# SENTIMENT\n",
    "POSITIVE = \"POSITIVE\"\n",
    "NEGATIVE = \"NEGATIVE\"\n",
    "NEUTRAL = \"NEUTRAL\"\n",
    "SENTIMENT_THRESHOLDS = (0.4, 0.7)\n",
    "\n",
    "# EXPORT\n",
    "KERAS_MODEL = \"model.h5\"\n",
    "WORD2VEC_MODEL = \"model.w2v\"\n",
    "TOKENIZER_MODEL = \"tokenizer.pkl\"\n",
    "ENCODER_MODEL = \"encoder.pkl\""
   ]
  },
  {
   "cell_type": "code",
   "execution_count": 5,
   "id": "f5929f8a",
   "metadata": {},
   "outputs": [],
   "source": [
    "df = pd.read_csv('training.1600000.processed.noemoticon.csv', encoding =DATASET_ENCODING , names=DATASET_COLUMNS)"
   ]
  },
  {
   "cell_type": "code",
   "execution_count": 6,
   "id": "ddddfb07",
   "metadata": {},
   "outputs": [
    {
     "name": "stdout",
     "output_type": "stream",
     "text": [
      "Dataset size: 1600000\n"
     ]
    }
   ],
   "source": [
    "print(\"Dataset size:\", len(df))"
   ]
  },
  {
   "cell_type": "code",
   "execution_count": 7,
   "id": "0fd40a92",
   "metadata": {
    "collapsed": true
   },
   "outputs": [
    {
     "data": {
      "text/html": [
       "<div>\n",
       "<style scoped>\n",
       "    .dataframe tbody tr th:only-of-type {\n",
       "        vertical-align: middle;\n",
       "    }\n",
       "\n",
       "    .dataframe tbody tr th {\n",
       "        vertical-align: top;\n",
       "    }\n",
       "\n",
       "    .dataframe thead th {\n",
       "        text-align: right;\n",
       "    }\n",
       "</style>\n",
       "<table border=\"1\" class=\"dataframe\">\n",
       "  <thead>\n",
       "    <tr style=\"text-align: right;\">\n",
       "      <th></th>\n",
       "      <th>target</th>\n",
       "      <th>ids</th>\n",
       "      <th>date</th>\n",
       "      <th>flag</th>\n",
       "      <th>user</th>\n",
       "      <th>text</th>\n",
       "    </tr>\n",
       "  </thead>\n",
       "  <tbody>\n",
       "    <tr>\n",
       "      <th>0</th>\n",
       "      <td>0</td>\n",
       "      <td>1467810369</td>\n",
       "      <td>Mon Apr 06 22:19:45 PDT 2009</td>\n",
       "      <td>NO_QUERY</td>\n",
       "      <td>_TheSpecialOne_</td>\n",
       "      <td>@switchfoot http://twitpic.com/2y1zl - Awww, t...</td>\n",
       "    </tr>\n",
       "    <tr>\n",
       "      <th>1</th>\n",
       "      <td>0</td>\n",
       "      <td>1467810672</td>\n",
       "      <td>Mon Apr 06 22:19:49 PDT 2009</td>\n",
       "      <td>NO_QUERY</td>\n",
       "      <td>scotthamilton</td>\n",
       "      <td>is upset that he can't update his Facebook by ...</td>\n",
       "    </tr>\n",
       "    <tr>\n",
       "      <th>2</th>\n",
       "      <td>0</td>\n",
       "      <td>1467810917</td>\n",
       "      <td>Mon Apr 06 22:19:53 PDT 2009</td>\n",
       "      <td>NO_QUERY</td>\n",
       "      <td>mattycus</td>\n",
       "      <td>@Kenichan I dived many times for the ball. Man...</td>\n",
       "    </tr>\n",
       "    <tr>\n",
       "      <th>3</th>\n",
       "      <td>0</td>\n",
       "      <td>1467811184</td>\n",
       "      <td>Mon Apr 06 22:19:57 PDT 2009</td>\n",
       "      <td>NO_QUERY</td>\n",
       "      <td>ElleCTF</td>\n",
       "      <td>my whole body feels itchy and like its on fire</td>\n",
       "    </tr>\n",
       "    <tr>\n",
       "      <th>4</th>\n",
       "      <td>0</td>\n",
       "      <td>1467811193</td>\n",
       "      <td>Mon Apr 06 22:19:57 PDT 2009</td>\n",
       "      <td>NO_QUERY</td>\n",
       "      <td>Karoli</td>\n",
       "      <td>@nationwideclass no, it's not behaving at all....</td>\n",
       "    </tr>\n",
       "  </tbody>\n",
       "</table>\n",
       "</div>"
      ],
      "text/plain": [
       "   target         ids                          date      flag  \\\n",
       "0       0  1467810369  Mon Apr 06 22:19:45 PDT 2009  NO_QUERY   \n",
       "1       0  1467810672  Mon Apr 06 22:19:49 PDT 2009  NO_QUERY   \n",
       "2       0  1467810917  Mon Apr 06 22:19:53 PDT 2009  NO_QUERY   \n",
       "3       0  1467811184  Mon Apr 06 22:19:57 PDT 2009  NO_QUERY   \n",
       "4       0  1467811193  Mon Apr 06 22:19:57 PDT 2009  NO_QUERY   \n",
       "\n",
       "              user                                               text  \n",
       "0  _TheSpecialOne_  @switchfoot http://twitpic.com/2y1zl - Awww, t...  \n",
       "1    scotthamilton  is upset that he can't update his Facebook by ...  \n",
       "2         mattycus  @Kenichan I dived many times for the ball. Man...  \n",
       "3          ElleCTF    my whole body feels itchy and like its on fire   \n",
       "4           Karoli  @nationwideclass no, it's not behaving at all....  "
      ]
     },
     "execution_count": 7,
     "metadata": {},
     "output_type": "execute_result"
    }
   ],
   "source": [
    "df.head(5)"
   ]
  },
  {
   "cell_type": "code",
   "execution_count": 8,
   "id": "fb0535ec",
   "metadata": {},
   "outputs": [],
   "source": [
    "decode_map = {0: \"NEGATIVE\", 2: \"NEUTRAL\", 4: \"POSITIVE\"}\n",
    "def decode_sentiment(label):\n",
    "    return decode_map[int(label)]"
   ]
  },
  {
   "cell_type": "code",
   "execution_count": 9,
   "id": "195705dc",
   "metadata": {},
   "outputs": [
    {
     "name": "stdout",
     "output_type": "stream",
     "text": [
      "CPU times: total: 469 ms\n",
      "Wall time: 479 ms\n"
     ]
    }
   ],
   "source": [
    "%%time\n",
    "df.target = df.target.apply(lambda x: decode_sentiment(x))"
   ]
  },
  {
   "cell_type": "code",
   "execution_count": 10,
   "id": "4c51c83e",
   "metadata": {
    "collapsed": true
   },
   "outputs": [
    {
     "data": {
      "text/plain": [
       "Text(0.5, 1.0, 'Dataset labels distribuition')"
      ]
     },
     "execution_count": 10,
     "metadata": {},
     "output_type": "execute_result"
    },
    {
     "data": {
      "image/png": "[encoded data removed]",
      "text/plain": [
       "<Figure size 1152x576 with 1 Axes>"
      ]
     },
     "metadata": {
      "needs_background": "light"
     },
     "output_type": "display_data"
    }
   ],
   "source": [
    "target_cnt = Counter(df.target)\n",
    "\n",
    "plt.figure(figsize=(16,8))\n",
    "plt.bar(target_cnt.keys(), target_cnt.values())\n",
    "plt.title(\"Dataset labels distribuition\")"
   ]
  },
  {
   "cell_type": "code",
   "execution_count": 11,
   "id": "a689d3c8",
   "metadata": {},
   "outputs": [],
   "source": [
    "stop_words = stopwords.words(\"english\")\n",
    "stemmer = SnowballStemmer(\"english\")"
   ]
  },
  {
   "cell_type": "code",
   "execution_count": 62,
   "id": "152cd758",
   "metadata": {},
   "outputs": [],
   "source": [
    "def preprocess(text, stem=False):\n",
    "    # Remove link,user and special characters\n",
    "    text = re.sub(TEXT_CLEANING_RE, ' ', str(text).lower()).strip()\n",
    "    tokens = []\n",
    "    for token in text.split():\n",
    "        if token not in stop_words and ['no','not']:\n",
    "            if stem:\n",
    "                tokens.append(stemmer.stem(token))\n",
    "            else:\n",
    "                tokens.append(token)\n",
    "    return \" \".join(tokens)"
   ]
  },
  {
   "cell_type": "code",
   "execution_count": 13,
   "id": "f44ef52c",
   "metadata": {},
   "outputs": [
    {
     "name": "stdout",
     "output_type": "stream",
     "text": [
      "CPU times: total: 50.8 s\n",
      "Wall time: 51.1 s\n"
     ]
    }
   ],
   "source": [
    "%%time\n",
    "df.text = df.text.apply(lambda x: preprocess(x))"
   ]
  },
  {
   "cell_type": "code",
   "execution_count": 14,
   "id": "324f08eb",
   "metadata": {},
   "outputs": [
    {
     "name": "stdout",
     "output_type": "stream",
     "text": [
      "TRAIN size: 1280000\n",
      "TEST size: 320000\n"
     ]
    }
   ],
   "source": [
    "df_train, df_test = train_test_split(df, test_size=1-TRAIN_SIZE, random_state=42)\n",
    "print(\"TRAIN size:\", len(df_train))\n",
    "print(\"TEST size:\", len(df_test))"
   ]
  },
  {
   "cell_type": "code",
   "execution_count": 15,
   "id": "b213a0c9",
   "metadata": {},
   "outputs": [
    {
     "name": "stdout",
     "output_type": "stream",
     "text": [
      "CPU times: total: 2.84 s\n",
      "Wall time: 2.88 s\n"
     ]
    }
   ],
   "source": [
    "%%time\n",
    "documents = [_text.split() for _text in df_train.text] "
   ]
  },
  {
   "cell_type": "code",
   "execution_count": 16,
   "id": "6615052a",
   "metadata": {},
   "outputs": [
    {
     "name": "stderr",
     "output_type": "stream",
     "text": [
      "2022-02-15 12:03:51,169 : INFO : Word2Vec lifecycle event {'params': 'Word2Vec(vocab=0, vector_size=300, alpha=0.025)', 'datetime': '2022-02-15T12:03:51.168944', 'gensim': '4.1.2', 'python': '3.10.0 | packaged by conda-forge | (default, Nov 10 2021, 13:20:59) [MSC v.1916 64 bit (AMD64)]', 'platform': 'Windows-10-10.0.19042-SP0', 'event': 'created'}\n"
     ]
    }
   ],
   "source": [
    "w2v_model = gensim.models.word2vec.Word2Vec(vector_size=W2V_SIZE, window=W2V_WINDOW, min_count=W2V_MIN_COUNT, workers=8)"
   ]
  },
  {
   "cell_type": "code",
   "execution_count": 17,
   "id": "50a3a2a1",
   "metadata": {
    "collapsed": true
   },
   "outputs": [
    {
     "name": "stderr",
     "output_type": "stream",
     "text": [
      "2022-02-15 12:04:10,468 : INFO : collecting all words and their counts\n",
      "2022-02-15 12:04:10,469 : INFO : PROGRESS: at sentence #0, processed 0 words, keeping 0 word types\n",
      "2022-02-15 12:04:10,487 : INFO : PROGRESS: at sentence #10000, processed 72565 words, keeping 14005 word types\n",
      "2022-02-15 12:04:10,506 : INFO : PROGRESS: at sentence #20000, processed 144393 words, keeping 21587 word types\n",
      "2022-02-15 12:04:10,525 : INFO : PROGRESS: at sentence #30000, processed 215826 words, keeping 27541 word types\n",
      "2022-02-15 12:04:10,543 : INFO : PROGRESS: at sentence #40000, processed 288271 words, keeping 32764 word types\n",
      "2022-02-15 12:04:10,560 : INFO : PROGRESS: at sentence #50000, processed 359772 words, keeping 37587 word types\n",
      "2022-02-15 12:04:10,579 : INFO : PROGRESS: at sentence #60000, processed 431431 words, keeping 42198 word types\n",
      "2022-02-15 12:04:10,598 : INFO : PROGRESS: at sentence #70000, processed 503103 words, keeping 46458 word types\n",
      "2022-02-15 12:04:10,619 : INFO : PROGRESS: at sentence #80000, processed 575709 words, keeping 50476 word types\n",
      "2022-02-15 12:04:10,637 : INFO : PROGRESS: at sentence #90000, processed 647100 words, keeping 54140 word types\n",
      "2022-02-15 12:04:10,656 : INFO : PROGRESS: at sentence #100000, processed 718681 words, keeping 57777 word types\n",
      "2022-02-15 12:04:10,676 : INFO : PROGRESS: at sentence #110000, processed 790696 words, keeping 61207 word types\n",
      "2022-02-15 12:04:10,699 : INFO : PROGRESS: at sentence #120000, processed 863134 words, keeping 64583 word types\n",
      "2022-02-15 12:04:10,718 : INFO : PROGRESS: at sentence #130000, processed 935111 words, keeping 67865 word types\n",
      "2022-02-15 12:04:10,737 : INFO : PROGRESS: at sentence #140000, processed 1006668 words, keeping 70966 word types\n",
      "2022-02-15 12:04:10,756 : INFO : PROGRESS: at sentence #150000, processed 1078512 words, keeping 74119 word types\n",
      "2022-02-15 12:04:10,776 : INFO : PROGRESS: at sentence #160000, processed 1149914 words, keeping 77187 word types\n",
      "2022-02-15 12:04:10,795 : INFO : PROGRESS: at sentence #170000, processed 1222145 words, keeping 80267 word types\n",
      "2022-02-15 12:04:10,816 : INFO : PROGRESS: at sentence #180000, processed 1294708 words, keeping 83393 word types\n",
      "2022-02-15 12:04:10,835 : INFO : PROGRESS: at sentence #190000, processed 1367608 words, keeping 86329 word types\n",
      "2022-02-15 12:04:10,857 : INFO : PROGRESS: at sentence #200000, processed 1439469 words, keeping 89103 word types\n",
      "2022-02-15 12:04:10,877 : INFO : PROGRESS: at sentence #210000, processed 1512099 words, keeping 91840 word types\n",
      "2022-02-15 12:04:10,898 : INFO : PROGRESS: at sentence #220000, processed 1584149 words, keeping 94636 word types\n",
      "2022-02-15 12:04:10,917 : INFO : PROGRESS: at sentence #230000, processed 1656354 words, keeping 97353 word types\n",
      "2022-02-15 12:04:10,938 : INFO : PROGRESS: at sentence #240000, processed 1728573 words, keeping 99975 word types\n",
      "2022-02-15 12:04:10,962 : INFO : PROGRESS: at sentence #250000, processed 1801102 words, keeping 102594 word types\n",
      "2022-02-15 12:04:10,981 : INFO : PROGRESS: at sentence #260000, processed 1873103 words, keeping 105162 word types\n",
      "2022-02-15 12:04:11,003 : INFO : PROGRESS: at sentence #270000, processed 1945245 words, keeping 107626 word types\n",
      "2022-02-15 12:04:11,023 : INFO : PROGRESS: at sentence #280000, processed 2017163 words, keeping 110141 word types\n",
      "2022-02-15 12:04:11,042 : INFO : PROGRESS: at sentence #290000, processed 2089574 words, keeping 112539 word types\n",
      "2022-02-15 12:04:11,062 : INFO : PROGRESS: at sentence #300000, processed 2160996 words, keeping 114893 word types\n",
      "2022-02-15 12:04:11,083 : INFO : PROGRESS: at sentence #310000, processed 2232913 words, keeping 117298 word types\n",
      "2022-02-15 12:04:11,102 : INFO : PROGRESS: at sentence #320000, processed 2305039 words, keeping 119693 word types\n",
      "2022-02-15 12:04:11,123 : INFO : PROGRESS: at sentence #330000, processed 2377119 words, keeping 122131 word types\n",
      "2022-02-15 12:04:11,143 : INFO : PROGRESS: at sentence #340000, processed 2449370 words, keeping 124416 word types\n",
      "2022-02-15 12:04:11,162 : INFO : PROGRESS: at sentence #350000, processed 2521564 words, keeping 126669 word types\n",
      "2022-02-15 12:04:11,181 : INFO : PROGRESS: at sentence #360000, processed 2593681 words, keeping 128912 word types\n",
      "2022-02-15 12:04:11,205 : INFO : PROGRESS: at sentence #370000, processed 2665692 words, keeping 131135 word types\n",
      "2022-02-15 12:04:11,224 : INFO : PROGRESS: at sentence #380000, processed 2737859 words, keeping 133403 word types\n",
      "2022-02-15 12:04:11,244 : INFO : PROGRESS: at sentence #390000, processed 2809848 words, keeping 135551 word types\n",
      "2022-02-15 12:04:11,265 : INFO : PROGRESS: at sentence #400000, processed 2882438 words, keeping 137742 word types\n",
      "2022-02-15 12:04:11,286 : INFO : PROGRESS: at sentence #410000, processed 2954075 words, keeping 139909 word types\n",
      "2022-02-15 12:04:11,305 : INFO : PROGRESS: at sentence #420000, processed 3026247 words, keeping 142144 word types\n",
      "2022-02-15 12:04:11,327 : INFO : PROGRESS: at sentence #430000, processed 3098659 words, keeping 144364 word types\n",
      "2022-02-15 12:04:11,347 : INFO : PROGRESS: at sentence #440000, processed 3170663 words, keeping 146439 word types\n",
      "2022-02-15 12:04:11,367 : INFO : PROGRESS: at sentence #450000, processed 3243344 words, keeping 148526 word types\n",
      "2022-02-15 12:04:11,388 : INFO : PROGRESS: at sentence #460000, processed 3315466 words, keeping 150610 word types\n",
      "2022-02-15 12:04:11,408 : INFO : PROGRESS: at sentence #470000, processed 3388295 words, keeping 152737 word types\n",
      "2022-02-15 12:04:11,430 : INFO : PROGRESS: at sentence #480000, processed 3460120 words, keeping 154757 word types\n",
      "2022-02-15 12:04:11,456 : INFO : PROGRESS: at sentence #490000, processed 3531883 words, keeping 156825 word types\n",
      "2022-02-15 12:04:11,477 : INFO : PROGRESS: at sentence #500000, processed 3604217 words, keeping 158859 word types\n",
      "2022-02-15 12:04:11,498 : INFO : PROGRESS: at sentence #510000, processed 3676427 words, keeping 160852 word types\n",
      "2022-02-15 12:04:11,521 : INFO : PROGRESS: at sentence #520000, processed 3749045 words, keeping 162863 word types\n",
      "2022-02-15 12:04:11,541 : INFO : PROGRESS: at sentence #530000, processed 3821622 words, keeping 164929 word types\n",
      "2022-02-15 12:04:11,561 : INFO : PROGRESS: at sentence #540000, processed 3893627 words, keeping 166840 word types\n",
      "2022-02-15 12:04:11,581 : INFO : PROGRESS: at sentence #550000, processed 3965477 words, keeping 168799 word types\n",
      "2022-02-15 12:04:11,601 : INFO : PROGRESS: at sentence #560000, processed 4038050 words, keeping 170802 word types\n",
      "2022-02-15 12:04:11,624 : INFO : PROGRESS: at sentence #570000, processed 4110296 words, keeping 172760 word types\n",
      "2022-02-15 12:04:11,644 : INFO : PROGRESS: at sentence #580000, processed 4182385 words, keeping 174635 word types\n",
      "2022-02-15 12:04:11,667 : INFO : PROGRESS: at sentence #590000, processed 4254632 words, keeping 176470 word types\n",
      "2022-02-15 12:04:11,688 : INFO : PROGRESS: at sentence #600000, processed 4326859 words, keeping 178350 word types\n",
      "2022-02-15 12:04:11,710 : INFO : PROGRESS: at sentence #610000, processed 4399183 words, keeping 180290 word types\n",
      "2022-02-15 12:04:11,731 : INFO : PROGRESS: at sentence #620000, processed 4471343 words, keeping 182129 word types\n",
      "2022-02-15 12:04:11,751 : INFO : PROGRESS: at sentence #630000, processed 4543286 words, keeping 184005 word types\n",
      "2022-02-15 12:04:11,772 : INFO : PROGRESS: at sentence #640000, processed 4615780 words, keeping 185835 word types\n",
      "2022-02-15 12:04:11,794 : INFO : PROGRESS: at sentence #650000, processed 4688481 words, keeping 187705 word types\n",
      "2022-02-15 12:04:11,814 : INFO : PROGRESS: at sentence #660000, processed 4760481 words, keeping 189439 word types\n",
      "2022-02-15 12:04:11,835 : INFO : PROGRESS: at sentence #670000, processed 4833024 words, keeping 191232 word types\n",
      "2022-02-15 12:04:11,856 : INFO : PROGRESS: at sentence #680000, processed 4904516 words, keeping 193177 word types\n",
      "2022-02-15 12:04:11,876 : INFO : PROGRESS: at sentence #690000, processed 4976968 words, keeping 194960 word types\n",
      "2022-02-15 12:04:11,898 : INFO : PROGRESS: at sentence #700000, processed 5049412 words, keeping 196725 word types\n",
      "2022-02-15 12:04:11,919 : INFO : PROGRESS: at sentence #710000, processed 5121976 words, keeping 198516 word types\n"
     ]
    },
    {
     "name": "stderr",
     "output_type": "stream",
     "text": [
      "2022-02-15 12:04:11,943 : INFO : PROGRESS: at sentence #720000, processed 5193881 words, keeping 200325 word types\n",
      "2022-02-15 12:04:11,969 : INFO : PROGRESS: at sentence #730000, processed 5265467 words, keeping 202133 word types\n",
      "2022-02-15 12:04:11,989 : INFO : PROGRESS: at sentence #740000, processed 5337518 words, keeping 203818 word types\n",
      "2022-02-15 12:04:12,011 : INFO : PROGRESS: at sentence #750000, processed 5409321 words, keeping 205535 word types\n",
      "2022-02-15 12:04:12,030 : INFO : PROGRESS: at sentence #760000, processed 5481512 words, keeping 207282 word types\n",
      "2022-02-15 12:04:12,050 : INFO : PROGRESS: at sentence #770000, processed 5554093 words, keeping 209076 word types\n",
      "2022-02-15 12:04:12,070 : INFO : PROGRESS: at sentence #780000, processed 5625382 words, keeping 210805 word types\n",
      "2022-02-15 12:04:12,091 : INFO : PROGRESS: at sentence #790000, processed 5698066 words, keeping 212618 word types\n",
      "2022-02-15 12:04:12,112 : INFO : PROGRESS: at sentence #800000, processed 5770880 words, keeping 214374 word types\n",
      "2022-02-15 12:04:12,135 : INFO : PROGRESS: at sentence #810000, processed 5843418 words, keeping 216009 word types\n",
      "2022-02-15 12:04:12,155 : INFO : PROGRESS: at sentence #820000, processed 5915628 words, keeping 217804 word types\n",
      "2022-02-15 12:04:12,175 : INFO : PROGRESS: at sentence #830000, processed 5987499 words, keeping 219585 word types\n",
      "2022-02-15 12:04:12,200 : INFO : PROGRESS: at sentence #840000, processed 6058973 words, keeping 221344 word types\n",
      "2022-02-15 12:04:12,222 : INFO : PROGRESS: at sentence #850000, processed 6131125 words, keeping 223002 word types\n",
      "2022-02-15 12:04:12,241 : INFO : PROGRESS: at sentence #860000, processed 6202951 words, keeping 224643 word types\n",
      "2022-02-15 12:04:12,262 : INFO : PROGRESS: at sentence #870000, processed 6275461 words, keeping 226362 word types\n",
      "2022-02-15 12:04:12,283 : INFO : PROGRESS: at sentence #880000, processed 6347661 words, keeping 227986 word types\n",
      "2022-02-15 12:04:12,304 : INFO : PROGRESS: at sentence #890000, processed 6419806 words, keeping 229634 word types\n",
      "2022-02-15 12:04:12,326 : INFO : PROGRESS: at sentence #900000, processed 6491644 words, keeping 231389 word types\n",
      "2022-02-15 12:04:12,348 : INFO : PROGRESS: at sentence #910000, processed 6564022 words, keeping 233050 word types\n",
      "2022-02-15 12:04:12,369 : INFO : PROGRESS: at sentence #920000, processed 6636228 words, keeping 234686 word types\n",
      "2022-02-15 12:04:12,389 : INFO : PROGRESS: at sentence #930000, processed 6708573 words, keeping 236393 word types\n",
      "2022-02-15 12:04:12,409 : INFO : PROGRESS: at sentence #940000, processed 6779956 words, keeping 238052 word types\n",
      "2022-02-15 12:04:12,430 : INFO : PROGRESS: at sentence #950000, processed 6852599 words, keeping 239716 word types\n",
      "2022-02-15 12:04:12,456 : INFO : PROGRESS: at sentence #960000, processed 6924717 words, keeping 241354 word types\n",
      "2022-02-15 12:04:12,477 : INFO : PROGRESS: at sentence #970000, processed 6996992 words, keeping 242980 word types\n",
      "2022-02-15 12:04:12,497 : INFO : PROGRESS: at sentence #980000, processed 7068402 words, keeping 244646 word types\n",
      "2022-02-15 12:04:12,516 : INFO : PROGRESS: at sentence #990000, processed 7140346 words, keeping 246186 word types\n",
      "2022-02-15 12:04:12,538 : INFO : PROGRESS: at sentence #1000000, processed 7211757 words, keeping 247726 word types\n",
      "2022-02-15 12:04:12,559 : INFO : PROGRESS: at sentence #1010000, processed 7283267 words, keeping 249288 word types\n",
      "2022-02-15 12:04:12,579 : INFO : PROGRESS: at sentence #1020000, processed 7355299 words, keeping 250860 word types\n",
      "2022-02-15 12:04:12,599 : INFO : PROGRESS: at sentence #1030000, processed 7426918 words, keeping 252366 word types\n",
      "2022-02-15 12:04:12,620 : INFO : PROGRESS: at sentence #1040000, processed 7498815 words, keeping 253930 word types\n",
      "2022-02-15 12:04:12,641 : INFO : PROGRESS: at sentence #1050000, processed 7570499 words, keeping 255471 word types\n",
      "2022-02-15 12:04:12,663 : INFO : PROGRESS: at sentence #1060000, processed 7643251 words, keeping 257035 word types\n",
      "2022-02-15 12:04:12,683 : INFO : PROGRESS: at sentence #1070000, processed 7714721 words, keeping 258509 word types\n",
      "2022-02-15 12:04:12,710 : INFO : PROGRESS: at sentence #1080000, processed 7787371 words, keeping 260071 word types\n",
      "2022-02-15 12:04:12,731 : INFO : PROGRESS: at sentence #1090000, processed 7859336 words, keeping 261683 word types\n",
      "2022-02-15 12:04:12,750 : INFO : PROGRESS: at sentence #1100000, processed 7932029 words, keeping 263278 word types\n",
      "2022-02-15 12:04:12,772 : INFO : PROGRESS: at sentence #1110000, processed 8004146 words, keeping 264800 word types\n",
      "2022-02-15 12:04:12,792 : INFO : PROGRESS: at sentence #1120000, processed 8075880 words, keeping 266309 word types\n",
      "2022-02-15 12:04:12,813 : INFO : PROGRESS: at sentence #1130000, processed 8148163 words, keeping 267826 word types\n",
      "2022-02-15 12:04:12,834 : INFO : PROGRESS: at sentence #1140000, processed 8220487 words, keeping 269391 word types\n",
      "2022-02-15 12:04:12,855 : INFO : PROGRESS: at sentence #1150000, processed 8292498 words, keeping 270894 word types\n",
      "2022-02-15 12:04:12,876 : INFO : PROGRESS: at sentence #1160000, processed 8363838 words, keeping 272400 word types\n",
      "2022-02-15 12:04:12,897 : INFO : PROGRESS: at sentence #1170000, processed 8435510 words, keeping 273970 word types\n",
      "2022-02-15 12:04:12,917 : INFO : PROGRESS: at sentence #1180000, processed 8507795 words, keeping 275521 word types\n",
      "2022-02-15 12:04:12,939 : INFO : PROGRESS: at sentence #1190000, processed 8579080 words, keeping 277007 word types\n",
      "2022-02-15 12:04:12,962 : INFO : PROGRESS: at sentence #1200000, processed 8650606 words, keeping 278457 word types\n",
      "2022-02-15 12:04:12,983 : INFO : PROGRESS: at sentence #1210000, processed 8721893 words, keeping 279959 word types\n",
      "2022-02-15 12:04:13,004 : INFO : PROGRESS: at sentence #1220000, processed 8793795 words, keeping 281427 word types\n",
      "2022-02-15 12:04:13,024 : INFO : PROGRESS: at sentence #1230000, processed 8865726 words, keeping 282981 word types\n",
      "2022-02-15 12:04:13,044 : INFO : PROGRESS: at sentence #1240000, processed 8938173 words, keeping 284542 word types\n",
      "2022-02-15 12:04:13,065 : INFO : PROGRESS: at sentence #1250000, processed 9010842 words, keeping 286064 word types\n",
      "2022-02-15 12:04:13,086 : INFO : PROGRESS: at sentence #1260000, processed 9083261 words, keeping 287521 word types\n",
      "2022-02-15 12:04:13,106 : INFO : PROGRESS: at sentence #1270000, processed 9155616 words, keeping 288987 word types\n",
      "2022-02-15 12:04:13,127 : INFO : collected 290418 word types from a corpus of 9227204 raw words and 1280000 sentences\n",
      "2022-02-15 12:04:13,128 : INFO : Creating a fresh vocabulary\n",
      "2022-02-15 12:04:13,376 : INFO : Word2Vec lifecycle event {'msg': 'effective_min_count=10 retains 30369 unique words (10.456996467161126%% of original 290418, drops 260049)', 'datetime': '2022-02-15T12:04:13.376229', 'gensim': '4.1.2', 'python': '3.10.0 | packaged by conda-forge | (default, Nov 10 2021, 13:20:59) [MSC v.1916 64 bit (AMD64)]', 'platform': 'Windows-10-10.0.19042-SP0', 'event': 'prepare_vocab'}\n",
      "2022-02-15 12:04:13,376 : INFO : Word2Vec lifecycle event {'msg': 'effective_min_count=10 leaves 8780739 word corpus (95.16142701516083%% of original 9227204, drops 446465)', 'datetime': '2022-02-15T12:04:13.376730', 'gensim': '4.1.2', 'python': '3.10.0 | packaged by conda-forge | (default, Nov 10 2021, 13:20:59) [MSC v.1916 64 bit (AMD64)]', 'platform': 'Windows-10-10.0.19042-SP0', 'event': 'prepare_vocab'}\n",
      "2022-02-15 12:04:13,580 : INFO : deleting the raw counts dictionary of 290418 items\n",
      "2022-02-15 12:04:13,585 : INFO : sample=0.001 downsamples 45 most-common words\n",
      "2022-02-15 12:04:13,585 : INFO : Word2Vec lifecycle event {'msg': 'downsampling leaves estimated 8222658.616429881 word corpus (93.6%% of prior 8780739)', 'datetime': '2022-02-15T12:04:13.585910', 'gensim': '4.1.2', 'python': '3.10.0 | packaged by conda-forge | (default, Nov 10 2021, 13:20:59) [MSC v.1916 64 bit (AMD64)]', 'platform': 'Windows-10-10.0.19042-SP0', 'event': 'prepare_vocab'}\n",
      "2022-02-15 12:04:13,907 : INFO : estimated required memory for 30369 words and 300 dimensions: 88070100 bytes\n",
      "2022-02-15 12:04:13,908 : INFO : resetting layer weights\n"
     ]
    },
    {
     "name": "stderr",
     "output_type": "stream",
     "text": [
      "2022-02-15 12:04:13,944 : INFO : Word2Vec lifecycle event {'update': False, 'trim_rule': 'None', 'datetime': '2022-02-15T12:04:13.944717', 'gensim': '4.1.2', 'python': '3.10.0 | packaged by conda-forge | (default, Nov 10 2021, 13:20:59) [MSC v.1916 64 bit (AMD64)]', 'platform': 'Windows-10-10.0.19042-SP0', 'event': 'build_vocab'}\n"
     ]
    }
   ],
   "source": [
    "w2v_model.build_vocab(documents)"
   ]
  },
  {
   "cell_type": "code",
   "execution_count": 18,
   "id": "d40c74d6",
   "metadata": {},
   "outputs": [
    {
     "name": "stdout",
     "output_type": "stream",
     "text": [
      "Vocab size 30369\n"
     ]
    }
   ],
   "source": [
    "words = w2v_model.wv.key_to_index.keys()\n",
    "vocab_size = len(words)\n",
    "print(\"Vocab size\", vocab_size)"
   ]
  },
  {
   "cell_type": "code",
   "execution_count": 19,
   "id": "2b4db174",
   "metadata": {
    "collapsed": true
   },
   "outputs": [
    {
     "name": "stderr",
     "output_type": "stream",
     "text": [
      "2022-02-15 12:05:47,009 : INFO : Word2Vec lifecycle event {'msg': 'training model with 8 workers on 30369 vocabulary and 300 features, using sg=0 hs=0 sample=0.001 negative=5 window=7 shrink_windows=True', 'datetime': '2022-02-15T12:05:47.009056', 'gensim': '4.1.2', 'python': '3.10.0 | packaged by conda-forge | (default, Nov 10 2021, 13:20:59) [MSC v.1916 64 bit (AMD64)]', 'platform': 'Windows-10-10.0.19042-SP0', 'event': 'train'}\n",
      "2022-02-15 12:05:48,031 : INFO : EPOCH 1 - PROGRESS: at 17.13% examples, 1401946 words/s, in_qsize 15, out_qsize 0\n",
      "2022-02-15 12:05:49,035 : INFO : EPOCH 1 - PROGRESS: at 35.42% examples, 1450926 words/s, in_qsize 16, out_qsize 1\n",
      "2022-02-15 12:05:50,059 : INFO : EPOCH 1 - PROGRESS: at 54.14% examples, 1469237 words/s, in_qsize 15, out_qsize 0\n",
      "2022-02-15 12:05:51,061 : INFO : EPOCH 1 - PROGRESS: at 71.45% examples, 1457805 words/s, in_qsize 15, out_qsize 0\n",
      "2022-02-15 12:05:52,079 : INFO : EPOCH 1 - PROGRESS: at 88.91% examples, 1447492 words/s, in_qsize 15, out_qsize 0\n",
      "2022-02-15 12:05:52,650 : INFO : worker thread finished; awaiting finish of 7 more threads\n",
      "2022-02-15 12:05:52,651 : INFO : worker thread finished; awaiting finish of 6 more threads\n",
      "2022-02-15 12:05:52,652 : INFO : worker thread finished; awaiting finish of 5 more threads\n",
      "2022-02-15 12:05:52,654 : INFO : worker thread finished; awaiting finish of 4 more threads\n",
      "2022-02-15 12:05:52,662 : INFO : worker thread finished; awaiting finish of 3 more threads\n",
      "2022-02-15 12:05:52,667 : INFO : worker thread finished; awaiting finish of 2 more threads\n",
      "2022-02-15 12:05:52,668 : INFO : worker thread finished; awaiting finish of 1 more threads\n",
      "2022-02-15 12:05:52,670 : INFO : worker thread finished; awaiting finish of 0 more threads\n",
      "2022-02-15 12:05:52,671 : INFO : EPOCH - 1 : training on 9227204 raw words (8222344 effective words) took 5.6s, 1456925 effective words/s\n",
      "2022-02-15 12:05:53,693 : INFO : EPOCH 2 - PROGRESS: at 17.46% examples, 1432718 words/s, in_qsize 14, out_qsize 1\n",
      "2022-02-15 12:05:54,699 : INFO : EPOCH 2 - PROGRESS: at 36.94% examples, 1514187 words/s, in_qsize 13, out_qsize 2\n",
      "2022-02-15 12:05:55,702 : INFO : EPOCH 2 - PROGRESS: at 56.62% examples, 1548237 words/s, in_qsize 15, out_qsize 0\n",
      "2022-02-15 12:05:56,704 : INFO : EPOCH 2 - PROGRESS: at 73.62% examples, 1509994 words/s, in_qsize 15, out_qsize 0\n",
      "2022-02-15 12:05:57,708 : INFO : EPOCH 2 - PROGRESS: at 91.96% examples, 1507780 words/s, in_qsize 14, out_qsize 1\n",
      "2022-02-15 12:05:58,109 : INFO : worker thread finished; awaiting finish of 7 more threads\n",
      "2022-02-15 12:05:58,110 : INFO : worker thread finished; awaiting finish of 6 more threads\n",
      "2022-02-15 12:05:58,112 : INFO : worker thread finished; awaiting finish of 5 more threads\n",
      "2022-02-15 12:05:58,112 : INFO : worker thread finished; awaiting finish of 4 more threads\n",
      "2022-02-15 12:05:58,114 : INFO : worker thread finished; awaiting finish of 3 more threads\n",
      "2022-02-15 12:05:58,123 : INFO : worker thread finished; awaiting finish of 2 more threads\n",
      "2022-02-15 12:05:58,133 : INFO : worker thread finished; awaiting finish of 1 more threads\n",
      "2022-02-15 12:05:58,134 : INFO : worker thread finished; awaiting finish of 0 more threads\n",
      "2022-02-15 12:05:58,134 : INFO : EPOCH - 2 : training on 9227204 raw words (8222562 effective words) took 5.4s, 1510973 effective words/s\n",
      "2022-02-15 12:05:59,204 : INFO : EPOCH 3 - PROGRESS: at 16.70% examples, 1330507 words/s, in_qsize 15, out_qsize 0\n",
      "2022-02-15 12:06:00,208 : INFO : EPOCH 3 - PROGRESS: at 35.10% examples, 1418279 words/s, in_qsize 16, out_qsize 2\n",
      "2022-02-15 12:06:01,210 : INFO : EPOCH 3 - PROGRESS: at 52.51% examples, 1422719 words/s, in_qsize 15, out_qsize 0\n",
      "2022-02-15 12:06:02,216 : INFO : EPOCH 3 - PROGRESS: at 69.39% examples, 1412656 words/s, in_qsize 15, out_qsize 0\n",
      "2022-02-15 12:06:03,241 : INFO : EPOCH 3 - PROGRESS: at 86.42% examples, 1402567 words/s, in_qsize 15, out_qsize 0\n",
      "2022-02-15 12:06:03,975 : INFO : worker thread finished; awaiting finish of 7 more threads\n",
      "2022-02-15 12:06:03,979 : INFO : worker thread finished; awaiting finish of 6 more threads\n",
      "2022-02-15 12:06:03,980 : INFO : worker thread finished; awaiting finish of 5 more threads\n",
      "2022-02-15 12:06:03,982 : INFO : worker thread finished; awaiting finish of 4 more threads\n",
      "2022-02-15 12:06:03,983 : INFO : worker thread finished; awaiting finish of 3 more threads\n",
      "2022-02-15 12:06:03,992 : INFO : worker thread finished; awaiting finish of 2 more threads\n",
      "2022-02-15 12:06:03,995 : INFO : worker thread finished; awaiting finish of 1 more threads\n",
      "2022-02-15 12:06:04,001 : INFO : worker thread finished; awaiting finish of 0 more threads\n",
      "2022-02-15 12:06:04,001 : INFO : EPOCH - 3 : training on 9227204 raw words (8223020 effective words) took 5.8s, 1410835 effective words/s\n",
      "2022-02-15 12:06:05,028 : INFO : EPOCH 4 - PROGRESS: at 17.02% examples, 1383854 words/s, in_qsize 15, out_qsize 0\n",
      "2022-02-15 12:06:06,028 : INFO : EPOCH 4 - PROGRESS: at 35.75% examples, 1461886 words/s, in_qsize 15, out_qsize 0\n",
      "2022-02-15 12:06:07,031 : INFO : EPOCH 4 - PROGRESS: at 53.70% examples, 1466062 words/s, in_qsize 12, out_qsize 3\n",
      "2022-02-15 12:06:08,041 : INFO : EPOCH 4 - PROGRESS: at 72.32% examples, 1478809 words/s, in_qsize 15, out_qsize 0\n",
      "2022-02-15 12:06:09,055 : INFO : EPOCH 4 - PROGRESS: at 90.87% examples, 1483721 words/s, in_qsize 15, out_qsize 0\n",
      "2022-02-15 12:06:09,494 : INFO : worker thread finished; awaiting finish of 7 more threads\n",
      "2022-02-15 12:06:09,496 : INFO : worker thread finished; awaiting finish of 6 more threads\n",
      "2022-02-15 12:06:09,498 : INFO : worker thread finished; awaiting finish of 5 more threads\n",
      "2022-02-15 12:06:09,507 : INFO : worker thread finished; awaiting finish of 4 more threads\n",
      "2022-02-15 12:06:09,509 : INFO : worker thread finished; awaiting finish of 3 more threads\n",
      "2022-02-15 12:06:09,514 : INFO : worker thread finished; awaiting finish of 2 more threads\n",
      "2022-02-15 12:06:09,517 : INFO : worker thread finished; awaiting finish of 1 more threads\n",
      "2022-02-15 12:06:09,520 : INFO : worker thread finished; awaiting finish of 0 more threads\n",
      "2022-02-15 12:06:09,521 : INFO : EPOCH - 4 : training on 9227204 raw words (8222433 effective words) took 5.5s, 1494076 effective words/s\n",
      "2022-02-15 12:06:10,541 : INFO : EPOCH 5 - PROGRESS: at 16.81% examples, 1378353 words/s, in_qsize 14, out_qsize 1\n",
      "2022-02-15 12:06:11,556 : INFO : EPOCH 5 - PROGRESS: at 35.32% examples, 1440770 words/s, in_qsize 15, out_qsize 0\n",
      "2022-02-15 12:06:12,556 : INFO : EPOCH 5 - PROGRESS: at 53.81% examples, 1468284 words/s, in_qsize 15, out_qsize 0\n",
      "2022-02-15 12:06:13,556 : INFO : EPOCH 5 - PROGRESS: at 70.91% examples, 1452972 words/s, in_qsize 15, out_qsize 0\n",
      "2022-02-15 12:06:14,584 : INFO : EPOCH 5 - PROGRESS: at 88.80% examples, 1448161 words/s, in_qsize 15, out_qsize 0\n",
      "2022-02-15 12:06:15,165 : INFO : worker thread finished; awaiting finish of 7 more threads\n",
      "2022-02-15 12:06:15,172 : INFO : worker thread finished; awaiting finish of 6 more threads\n",
      "2022-02-15 12:06:15,173 : INFO : worker thread finished; awaiting finish of 5 more threads\n",
      "2022-02-15 12:06:15,176 : INFO : worker thread finished; awaiting finish of 4 more threads\n",
      "2022-02-15 12:06:15,183 : INFO : worker thread finished; awaiting finish of 3 more threads\n",
      "2022-02-15 12:06:15,184 : INFO : worker thread finished; awaiting finish of 2 more threads\n",
      "2022-02-15 12:06:15,185 : INFO : worker thread finished; awaiting finish of 1 more threads\n",
      "2022-02-15 12:06:15,186 : INFO : worker thread finished; awaiting finish of 0 more threads\n",
      "2022-02-15 12:06:15,186 : INFO : EPOCH - 5 : training on 9227204 raw words (8223614 effective words) took 5.6s, 1456397 effective words/s\n",
      "2022-02-15 12:06:16,220 : INFO : EPOCH 6 - PROGRESS: at 16.92% examples, 1384697 words/s, in_qsize 12, out_qsize 3\n",
      "2022-02-15 12:06:17,223 : INFO : EPOCH 6 - PROGRESS: at 33.92% examples, 1389418 words/s, in_qsize 15, out_qsize 0\n",
      "2022-02-15 12:06:18,246 : INFO : EPOCH 6 - PROGRESS: at 52.40% examples, 1423168 words/s, in_qsize 15, out_qsize 0\n",
      "2022-02-15 12:06:19,274 : INFO : EPOCH 6 - PROGRESS: at 69.72% examples, 1414078 words/s, in_qsize 14, out_qsize 2\n",
      "2022-02-15 12:06:20,275 : INFO : EPOCH 6 - PROGRESS: at 87.18% examples, 1417494 words/s, in_qsize 13, out_qsize 2\n"
     ]
    },
    {
     "name": "stderr",
     "output_type": "stream",
     "text": [
      "2022-02-15 12:06:20,901 : INFO : worker thread finished; awaiting finish of 7 more threads\n",
      "2022-02-15 12:06:20,902 : INFO : worker thread finished; awaiting finish of 6 more threads\n",
      "2022-02-15 12:06:20,905 : INFO : worker thread finished; awaiting finish of 5 more threads\n",
      "2022-02-15 12:06:20,909 : INFO : worker thread finished; awaiting finish of 4 more threads\n",
      "2022-02-15 12:06:20,915 : INFO : worker thread finished; awaiting finish of 3 more threads\n",
      "2022-02-15 12:06:20,917 : INFO : worker thread finished; awaiting finish of 2 more threads\n",
      "2022-02-15 12:06:20,918 : INFO : worker thread finished; awaiting finish of 1 more threads\n",
      "2022-02-15 12:06:20,922 : INFO : worker thread finished; awaiting finish of 0 more threads\n",
      "2022-02-15 12:06:20,923 : INFO : EPOCH - 6 : training on 9227204 raw words (8222834 effective words) took 5.7s, 1440991 effective words/s\n",
      "2022-02-15 12:06:21,945 : INFO : EPOCH 7 - PROGRESS: at 16.38% examples, 1341597 words/s, in_qsize 14, out_qsize 1\n",
      "2022-02-15 12:06:22,952 : INFO : EPOCH 7 - PROGRESS: at 34.24% examples, 1400078 words/s, in_qsize 15, out_qsize 0\n",
      "2022-02-15 12:06:23,971 : INFO : EPOCH 7 - PROGRESS: at 51.43% examples, 1396962 words/s, in_qsize 16, out_qsize 0\n",
      "2022-02-15 12:06:24,977 : INFO : EPOCH 7 - PROGRESS: at 70.16% examples, 1430759 words/s, in_qsize 15, out_qsize 0\n",
      "2022-02-15 12:06:25,989 : INFO : EPOCH 7 - PROGRESS: at 89.45% examples, 1457979 words/s, in_qsize 15, out_qsize 0\n",
      "2022-02-15 12:06:26,491 : INFO : worker thread finished; awaiting finish of 7 more threads\n",
      "2022-02-15 12:06:26,492 : INFO : worker thread finished; awaiting finish of 6 more threads\n",
      "2022-02-15 12:06:26,493 : INFO : worker thread finished; awaiting finish of 5 more threads\n",
      "2022-02-15 12:06:26,496 : INFO : worker thread finished; awaiting finish of 4 more threads\n",
      "2022-02-15 12:06:26,498 : INFO : worker thread finished; awaiting finish of 3 more threads\n",
      "2022-02-15 12:06:26,508 : INFO : worker thread finished; awaiting finish of 2 more threads\n",
      "2022-02-15 12:06:26,512 : INFO : worker thread finished; awaiting finish of 1 more threads\n",
      "2022-02-15 12:06:26,513 : INFO : worker thread finished; awaiting finish of 0 more threads\n",
      "2022-02-15 12:06:26,514 : INFO : EPOCH - 7 : training on 9227204 raw words (8222420 effective words) took 5.6s, 1475865 effective words/s\n",
      "2022-02-15 12:06:27,547 : INFO : EPOCH 8 - PROGRESS: at 17.13% examples, 1379067 words/s, in_qsize 15, out_qsize 0\n",
      "2022-02-15 12:06:28,555 : INFO : EPOCH 8 - PROGRESS: at 34.24% examples, 1387839 words/s, in_qsize 15, out_qsize 0\n",
      "2022-02-15 12:06:29,558 : INFO : EPOCH 8 - PROGRESS: at 52.40% examples, 1422363 words/s, in_qsize 15, out_qsize 0\n",
      "2022-02-15 12:06:30,563 : INFO : EPOCH 8 - PROGRESS: at 69.83% examples, 1423779 words/s, in_qsize 14, out_qsize 1\n",
      "2022-02-15 12:06:31,564 : INFO : EPOCH 8 - PROGRESS: at 86.43% examples, 1411194 words/s, in_qsize 14, out_qsize 1\n",
      "2022-02-15 12:06:32,219 : INFO : worker thread finished; awaiting finish of 7 more threads\n",
      "2022-02-15 12:06:32,220 : INFO : worker thread finished; awaiting finish of 6 more threads\n",
      "2022-02-15 12:06:32,223 : INFO : worker thread finished; awaiting finish of 5 more threads\n",
      "2022-02-15 12:06:32,226 : INFO : worker thread finished; awaiting finish of 4 more threads\n",
      "2022-02-15 12:06:32,232 : INFO : worker thread finished; awaiting finish of 3 more threads\n",
      "2022-02-15 12:06:32,233 : INFO : worker thread finished; awaiting finish of 2 more threads\n",
      "2022-02-15 12:06:32,239 : INFO : worker thread finished; awaiting finish of 1 more threads\n",
      "2022-02-15 12:06:32,239 : INFO : worker thread finished; awaiting finish of 0 more threads\n",
      "2022-02-15 12:06:32,240 : INFO : EPOCH - 8 : training on 9227204 raw words (8222897 effective words) took 5.7s, 1439331 effective words/s\n",
      "2022-02-15 12:06:33,257 : INFO : EPOCH 9 - PROGRESS: at 16.48% examples, 1346699 words/s, in_qsize 15, out_qsize 0\n",
      "2022-02-15 12:06:34,273 : INFO : EPOCH 9 - PROGRESS: at 34.89% examples, 1419298 words/s, in_qsize 15, out_qsize 0\n",
      "2022-02-15 12:06:35,276 : INFO : EPOCH 9 - PROGRESS: at 53.48% examples, 1455049 words/s, in_qsize 14, out_qsize 1\n",
      "2022-02-15 12:06:36,279 : INFO : EPOCH 9 - PROGRESS: at 71.67% examples, 1464128 words/s, in_qsize 12, out_qsize 3\n",
      "2022-02-15 12:06:37,281 : INFO : EPOCH 9 - PROGRESS: at 89.67% examples, 1466336 words/s, in_qsize 15, out_qsize 0\n",
      "2022-02-15 12:06:37,755 : INFO : worker thread finished; awaiting finish of 7 more threads\n",
      "2022-02-15 12:06:37,757 : INFO : worker thread finished; awaiting finish of 6 more threads\n",
      "2022-02-15 12:06:37,758 : INFO : worker thread finished; awaiting finish of 5 more threads\n",
      "2022-02-15 12:06:37,763 : INFO : worker thread finished; awaiting finish of 4 more threads\n",
      "2022-02-15 12:06:37,765 : INFO : worker thread finished; awaiting finish of 3 more threads\n",
      "2022-02-15 12:06:37,768 : INFO : worker thread finished; awaiting finish of 2 more threads\n",
      "2022-02-15 12:06:37,773 : INFO : worker thread finished; awaiting finish of 1 more threads\n",
      "2022-02-15 12:06:37,775 : INFO : worker thread finished; awaiting finish of 0 more threads\n",
      "2022-02-15 12:06:37,775 : INFO : EPOCH - 9 : training on 9227204 raw words (8221926 effective words) took 5.5s, 1488488 effective words/s\n",
      "2022-02-15 12:06:38,789 : INFO : EPOCH 10 - PROGRESS: at 15.84% examples, 1297940 words/s, in_qsize 16, out_qsize 0\n",
      "2022-02-15 12:06:39,795 : INFO : EPOCH 10 - PROGRESS: at 32.73% examples, 1339926 words/s, in_qsize 15, out_qsize 0\n",
      "2022-02-15 12:06:40,803 : INFO : EPOCH 10 - PROGRESS: at 51.86% examples, 1415309 words/s, in_qsize 15, out_qsize 0\n",
      "2022-02-15 12:06:41,825 : INFO : EPOCH 10 - PROGRESS: at 70.27% examples, 1432006 words/s, in_qsize 15, out_qsize 0\n",
      "2022-02-15 12:06:42,832 : INFO : EPOCH 10 - PROGRESS: at 87.61% examples, 1428585 words/s, in_qsize 14, out_qsize 1\n",
      "2022-02-15 12:06:43,496 : INFO : worker thread finished; awaiting finish of 7 more threads\n",
      "2022-02-15 12:06:43,506 : INFO : worker thread finished; awaiting finish of 6 more threads\n",
      "2022-02-15 12:06:43,507 : INFO : worker thread finished; awaiting finish of 5 more threads\n",
      "2022-02-15 12:06:43,510 : INFO : worker thread finished; awaiting finish of 4 more threads\n",
      "2022-02-15 12:06:43,520 : INFO : worker thread finished; awaiting finish of 3 more threads\n",
      "2022-02-15 12:06:43,521 : INFO : worker thread finished; awaiting finish of 2 more threads\n",
      "2022-02-15 12:06:43,522 : INFO : worker thread finished; awaiting finish of 1 more threads\n",
      "2022-02-15 12:06:43,525 : INFO : worker thread finished; awaiting finish of 0 more threads\n",
      "2022-02-15 12:06:43,525 : INFO : EPOCH - 10 : training on 9227204 raw words (8223171 effective words) took 5.7s, 1433171 effective words/s\n",
      "2022-02-15 12:06:44,576 : INFO : EPOCH 11 - PROGRESS: at 18.54% examples, 1508346 words/s, in_qsize 15, out_qsize 2\n",
      "2022-02-15 12:06:45,584 : INFO : EPOCH 11 - PROGRESS: at 35.86% examples, 1460864 words/s, in_qsize 15, out_qsize 0\n",
      "2022-02-15 12:06:46,593 : INFO : EPOCH 11 - PROGRESS: at 54.03% examples, 1468860 words/s, in_qsize 15, out_qsize 0\n",
      "2022-02-15 12:06:47,598 : INFO : EPOCH 11 - PROGRESS: at 72.64% examples, 1482736 words/s, in_qsize 15, out_qsize 0\n",
      "2022-02-15 12:06:48,606 : INFO : EPOCH 11 - PROGRESS: at 90.87% examples, 1483130 words/s, in_qsize 15, out_qsize 0\n",
      "2022-02-15 12:06:49,035 : INFO : worker thread finished; awaiting finish of 7 more threads\n",
      "2022-02-15 12:06:49,036 : INFO : worker thread finished; awaiting finish of 6 more threads\n",
      "2022-02-15 12:06:49,037 : INFO : worker thread finished; awaiting finish of 5 more threads\n",
      "2022-02-15 12:06:49,043 : INFO : worker thread finished; awaiting finish of 4 more threads\n",
      "2022-02-15 12:06:49,044 : INFO : worker thread finished; awaiting finish of 3 more threads\n",
      "2022-02-15 12:06:49,052 : INFO : worker thread finished; awaiting finish of 2 more threads\n",
      "2022-02-15 12:06:49,054 : INFO : worker thread finished; awaiting finish of 1 more threads\n",
      "2022-02-15 12:06:49,055 : INFO : worker thread finished; awaiting finish of 0 more threads\n",
      "2022-02-15 12:06:49,056 : INFO : EPOCH - 11 : training on 9227204 raw words (8223607 effective words) took 5.5s, 1497942 effective words/s\n",
      "2022-02-15 12:06:50,107 : INFO : EPOCH 12 - PROGRESS: at 18.11% examples, 1469887 words/s, in_qsize 15, out_qsize 0\n"
     ]
    },
    {
     "name": "stderr",
     "output_type": "stream",
     "text": [
      "2022-02-15 12:06:51,118 : INFO : EPOCH 12 - PROGRESS: at 34.68% examples, 1409228 words/s, in_qsize 15, out_qsize 0\n",
      "2022-02-15 12:06:52,120 : INFO : EPOCH 12 - PROGRESS: at 51.96% examples, 1413787 words/s, in_qsize 14, out_qsize 1\n",
      "2022-02-15 12:06:53,125 : INFO : EPOCH 12 - PROGRESS: at 70.91% examples, 1448214 words/s, in_qsize 15, out_qsize 0\n",
      "2022-02-15 12:06:54,133 : INFO : EPOCH 12 - PROGRESS: at 88.81% examples, 1449972 words/s, in_qsize 15, out_qsize 3\n",
      "2022-02-15 12:06:54,678 : INFO : worker thread finished; awaiting finish of 7 more threads\n",
      "2022-02-15 12:06:54,683 : INFO : worker thread finished; awaiting finish of 6 more threads\n",
      "2022-02-15 12:06:54,686 : INFO : worker thread finished; awaiting finish of 5 more threads\n",
      "2022-02-15 12:06:54,687 : INFO : worker thread finished; awaiting finish of 4 more threads\n",
      "2022-02-15 12:06:54,692 : INFO : worker thread finished; awaiting finish of 3 more threads\n",
      "2022-02-15 12:06:54,695 : INFO : worker thread finished; awaiting finish of 2 more threads\n",
      "2022-02-15 12:06:54,696 : INFO : worker thread finished; awaiting finish of 1 more threads\n",
      "2022-02-15 12:06:54,701 : INFO : worker thread finished; awaiting finish of 0 more threads\n",
      "2022-02-15 12:06:54,701 : INFO : EPOCH - 12 : training on 9227204 raw words (8222560 effective words) took 5.6s, 1466749 effective words/s\n",
      "2022-02-15 12:06:55,745 : INFO : EPOCH 13 - PROGRESS: at 17.13% examples, 1366564 words/s, in_qsize 15, out_qsize 0\n",
      "2022-02-15 12:06:56,747 : INFO : EPOCH 13 - PROGRESS: at 34.13% examples, 1380801 words/s, in_qsize 15, out_qsize 0\n",
      "2022-02-15 12:06:57,759 : INFO : EPOCH 13 - PROGRESS: at 51.64% examples, 1395387 words/s, in_qsize 15, out_qsize 0\n",
      "2022-02-15 12:06:58,763 : INFO : EPOCH 13 - PROGRESS: at 69.61% examples, 1415053 words/s, in_qsize 15, out_qsize 0\n",
      "2022-02-15 12:06:59,784 : INFO : EPOCH 13 - PROGRESS: at 87.29% examples, 1416249 words/s, in_qsize 15, out_qsize 0\n",
      "2022-02-15 12:07:00,447 : INFO : worker thread finished; awaiting finish of 7 more threads\n",
      "2022-02-15 12:07:00,449 : INFO : worker thread finished; awaiting finish of 6 more threads\n",
      "2022-02-15 12:07:00,453 : INFO : worker thread finished; awaiting finish of 5 more threads\n",
      "2022-02-15 12:07:00,454 : INFO : worker thread finished; awaiting finish of 4 more threads\n",
      "2022-02-15 12:07:00,458 : INFO : worker thread finished; awaiting finish of 3 more threads\n",
      "2022-02-15 12:07:00,459 : INFO : worker thread finished; awaiting finish of 2 more threads\n",
      "2022-02-15 12:07:00,462 : INFO : worker thread finished; awaiting finish of 1 more threads\n",
      "2022-02-15 12:07:00,466 : INFO : worker thread finished; awaiting finish of 0 more threads\n",
      "2022-02-15 12:07:00,467 : INFO : EPOCH - 13 : training on 9227204 raw words (8222277 effective words) took 5.8s, 1429514 effective words/s\n",
      "2022-02-15 12:07:01,511 : INFO : EPOCH 14 - PROGRESS: at 17.46% examples, 1430590 words/s, in_qsize 15, out_qsize 0\n",
      "2022-02-15 12:07:02,516 : INFO : EPOCH 14 - PROGRESS: at 34.89% examples, 1428975 words/s, in_qsize 15, out_qsize 0\n",
      "2022-02-15 12:07:03,516 : INFO : EPOCH 14 - PROGRESS: at 53.59% examples, 1466149 words/s, in_qsize 14, out_qsize 1\n",
      "2022-02-15 12:07:04,522 : INFO : EPOCH 14 - PROGRESS: at 71.35% examples, 1462837 words/s, in_qsize 15, out_qsize 0\n",
      "2022-02-15 12:07:05,523 : INFO : EPOCH 14 - PROGRESS: at 90.54% examples, 1485175 words/s, in_qsize 15, out_qsize 0\n",
      "2022-02-15 12:07:06,008 : INFO : worker thread finished; awaiting finish of 7 more threads\n",
      "2022-02-15 12:07:06,011 : INFO : worker thread finished; awaiting finish of 6 more threads\n",
      "2022-02-15 12:07:06,014 : INFO : worker thread finished; awaiting finish of 5 more threads\n",
      "2022-02-15 12:07:06,015 : INFO : worker thread finished; awaiting finish of 4 more threads\n",
      "2022-02-15 12:07:06,020 : INFO : worker thread finished; awaiting finish of 3 more threads\n",
      "2022-02-15 12:07:06,026 : INFO : worker thread finished; awaiting finish of 2 more threads\n",
      "2022-02-15 12:07:06,030 : INFO : worker thread finished; awaiting finish of 1 more threads\n",
      "2022-02-15 12:07:06,031 : INFO : worker thread finished; awaiting finish of 0 more threads\n",
      "2022-02-15 12:07:06,031 : INFO : EPOCH - 14 : training on 9227204 raw words (8222328 effective words) took 5.5s, 1488896 effective words/s\n",
      "2022-02-15 12:07:07,066 : INFO : EPOCH 15 - PROGRESS: at 16.92% examples, 1370425 words/s, in_qsize 15, out_qsize 0\n",
      "2022-02-15 12:07:08,083 : INFO : EPOCH 15 - PROGRESS: at 35.32% examples, 1430228 words/s, in_qsize 15, out_qsize 0\n",
      "2022-02-15 12:07:09,092 : INFO : EPOCH 15 - PROGRESS: at 53.48% examples, 1447903 words/s, in_qsize 15, out_qsize 0\n",
      "2022-02-15 12:07:10,096 : INFO : EPOCH 15 - PROGRESS: at 72.10% examples, 1467416 words/s, in_qsize 15, out_qsize 0\n",
      "2022-02-15 12:07:11,103 : INFO : EPOCH 15 - PROGRESS: at 90.33% examples, 1471104 words/s, in_qsize 15, out_qsize 0\n",
      "2022-02-15 12:07:11,588 : INFO : worker thread finished; awaiting finish of 7 more threads\n",
      "2022-02-15 12:07:11,590 : INFO : worker thread finished; awaiting finish of 6 more threads\n",
      "2022-02-15 12:07:11,598 : INFO : worker thread finished; awaiting finish of 5 more threads\n",
      "2022-02-15 12:07:11,599 : INFO : worker thread finished; awaiting finish of 4 more threads\n",
      "2022-02-15 12:07:11,601 : INFO : worker thread finished; awaiting finish of 3 more threads\n",
      "2022-02-15 12:07:11,605 : INFO : worker thread finished; awaiting finish of 2 more threads\n",
      "2022-02-15 12:07:11,606 : INFO : worker thread finished; awaiting finish of 1 more threads\n",
      "2022-02-15 12:07:11,611 : INFO : worker thread finished; awaiting finish of 0 more threads\n",
      "2022-02-15 12:07:11,612 : INFO : EPOCH - 15 : training on 9227204 raw words (8223052 effective words) took 5.6s, 1479167 effective words/s\n",
      "2022-02-15 12:07:12,649 : INFO : EPOCH 16 - PROGRESS: at 18.87% examples, 1508015 words/s, in_qsize 15, out_qsize 0\n",
      "2022-02-15 12:07:13,656 : INFO : EPOCH 16 - PROGRESS: at 36.94% examples, 1493680 words/s, in_qsize 15, out_qsize 0\n",
      "2022-02-15 12:07:14,668 : INFO : EPOCH 16 - PROGRESS: at 54.89% examples, 1482799 words/s, in_qsize 16, out_qsize 0\n",
      "2022-02-15 12:07:15,670 : INFO : EPOCH 16 - PROGRESS: at 72.86% examples, 1481186 words/s, in_qsize 14, out_qsize 1\n",
      "2022-02-15 12:07:16,678 : INFO : EPOCH 16 - PROGRESS: at 91.09% examples, 1481777 words/s, in_qsize 15, out_qsize 0\n",
      "2022-02-15 12:07:17,101 : INFO : worker thread finished; awaiting finish of 7 more threads\n",
      "2022-02-15 12:07:17,102 : INFO : worker thread finished; awaiting finish of 6 more threads\n",
      "2022-02-15 12:07:17,103 : INFO : worker thread finished; awaiting finish of 5 more threads\n",
      "2022-02-15 12:07:17,105 : INFO : worker thread finished; awaiting finish of 4 more threads\n",
      "2022-02-15 12:07:17,106 : INFO : worker thread finished; awaiting finish of 3 more threads\n",
      "2022-02-15 12:07:17,111 : INFO : worker thread finished; awaiting finish of 2 more threads\n",
      "2022-02-15 12:07:17,118 : INFO : worker thread finished; awaiting finish of 1 more threads\n",
      "2022-02-15 12:07:17,120 : INFO : worker thread finished; awaiting finish of 0 more threads\n",
      "2022-02-15 12:07:17,121 : INFO : EPOCH - 16 : training on 9227204 raw words (8223147 effective words) took 5.5s, 1495363 effective words/s\n",
      "2022-02-15 12:07:18,132 : INFO : EPOCH 17 - PROGRESS: at 17.13% examples, 1405635 words/s, in_qsize 16, out_qsize 0\n",
      "2022-02-15 12:07:19,149 : INFO : EPOCH 17 - PROGRESS: at 35.75% examples, 1457058 words/s, in_qsize 15, out_qsize 0\n",
      "2022-02-15 12:07:20,149 : INFO : EPOCH 17 - PROGRESS: at 54.78% examples, 1493887 words/s, in_qsize 15, out_qsize 0\n",
      "2022-02-15 12:07:21,163 : INFO : EPOCH 17 - PROGRESS: at 71.78% examples, 1465259 words/s, in_qsize 15, out_qsize 0\n",
      "2022-02-15 12:07:22,176 : INFO : EPOCH 17 - PROGRESS: at 89.34% examples, 1456827 words/s, in_qsize 15, out_qsize 0\n",
      "2022-02-15 12:07:22,702 : INFO : worker thread finished; awaiting finish of 7 more threads\n",
      "2022-02-15 12:07:22,706 : INFO : worker thread finished; awaiting finish of 6 more threads\n",
      "2022-02-15 12:07:22,707 : INFO : worker thread finished; awaiting finish of 5 more threads\n",
      "2022-02-15 12:07:22,711 : INFO : worker thread finished; awaiting finish of 4 more threads\n",
      "2022-02-15 12:07:22,712 : INFO : worker thread finished; awaiting finish of 3 more threads\n",
      "2022-02-15 12:07:22,714 : INFO : worker thread finished; awaiting finish of 2 more threads\n"
     ]
    },
    {
     "name": "stderr",
     "output_type": "stream",
     "text": [
      "2022-02-15 12:07:22,719 : INFO : worker thread finished; awaiting finish of 1 more threads\n",
      "2022-02-15 12:07:22,723 : INFO : worker thread finished; awaiting finish of 0 more threads\n",
      "2022-02-15 12:07:22,723 : INFO : EPOCH - 17 : training on 9227204 raw words (8223008 effective words) took 5.6s, 1470564 effective words/s\n",
      "2022-02-15 12:07:23,764 : INFO : EPOCH 18 - PROGRESS: at 15.41% examples, 1261937 words/s, in_qsize 11, out_qsize 4\n",
      "2022-02-15 12:07:24,790 : INFO : EPOCH 18 - PROGRESS: at 33.16% examples, 1343990 words/s, in_qsize 15, out_qsize 0\n",
      "2022-02-15 12:07:25,815 : INFO : EPOCH 18 - PROGRESS: at 50.24% examples, 1353996 words/s, in_qsize 15, out_qsize 0\n",
      "2022-02-15 12:07:26,846 : INFO : EPOCH 18 - PROGRESS: at 69.18% examples, 1393565 words/s, in_qsize 15, out_qsize 0\n",
      "2022-02-15 12:07:27,853 : INFO : EPOCH 18 - PROGRESS: at 86.42% examples, 1396193 words/s, in_qsize 16, out_qsize 0\n",
      "2022-02-15 12:07:28,518 : INFO : worker thread finished; awaiting finish of 7 more threads\n",
      "2022-02-15 12:07:28,519 : INFO : worker thread finished; awaiting finish of 6 more threads\n",
      "2022-02-15 12:07:28,520 : INFO : worker thread finished; awaiting finish of 5 more threads\n",
      "2022-02-15 12:07:28,523 : INFO : worker thread finished; awaiting finish of 4 more threads\n",
      "2022-02-15 12:07:28,526 : INFO : worker thread finished; awaiting finish of 3 more threads\n",
      "2022-02-15 12:07:28,528 : INFO : worker thread finished; awaiting finish of 2 more threads\n",
      "2022-02-15 12:07:28,534 : INFO : worker thread finished; awaiting finish of 1 more threads\n",
      "2022-02-15 12:07:28,537 : INFO : worker thread finished; awaiting finish of 0 more threads\n",
      "2022-02-15 12:07:28,538 : INFO : EPOCH - 18 : training on 9227204 raw words (8222763 effective words) took 5.8s, 1423569 effective words/s\n",
      "2022-02-15 12:07:29,559 : INFO : EPOCH 19 - PROGRESS: at 15.41% examples, 1253082 words/s, in_qsize 15, out_qsize 0\n",
      "2022-02-15 12:07:30,562 : INFO : EPOCH 19 - PROGRESS: at 33.16% examples, 1354695 words/s, in_qsize 15, out_qsize 0\n",
      "2022-02-15 12:07:31,566 : INFO : EPOCH 19 - PROGRESS: at 50.35% examples, 1372903 words/s, in_qsize 14, out_qsize 1\n",
      "2022-02-15 12:07:32,567 : INFO : EPOCH 19 - PROGRESS: at 68.64% examples, 1405702 words/s, in_qsize 14, out_qsize 1\n",
      "2022-02-15 12:07:33,594 : INFO : EPOCH 19 - PROGRESS: at 86.75% examples, 1414408 words/s, in_qsize 15, out_qsize 0\n",
      "2022-02-15 12:07:34,269 : INFO : worker thread finished; awaiting finish of 7 more threads\n",
      "2022-02-15 12:07:34,275 : INFO : worker thread finished; awaiting finish of 6 more threads\n",
      "2022-02-15 12:07:34,276 : INFO : worker thread finished; awaiting finish of 5 more threads\n",
      "2022-02-15 12:07:34,279 : INFO : worker thread finished; awaiting finish of 4 more threads\n",
      "2022-02-15 12:07:34,283 : INFO : worker thread finished; awaiting finish of 3 more threads\n",
      "2022-02-15 12:07:34,287 : INFO : worker thread finished; awaiting finish of 2 more threads\n",
      "2022-02-15 12:07:34,293 : INFO : worker thread finished; awaiting finish of 1 more threads\n",
      "2022-02-15 12:07:34,295 : INFO : worker thread finished; awaiting finish of 0 more threads\n",
      "2022-02-15 12:07:34,295 : INFO : EPOCH - 19 : training on 9227204 raw words (8222196 effective words) took 5.7s, 1430972 effective words/s\n",
      "2022-02-15 12:07:35,338 : INFO : EPOCH 20 - PROGRESS: at 16.37% examples, 1318493 words/s, in_qsize 15, out_qsize 0\n",
      "2022-02-15 12:07:36,338 : INFO : EPOCH 20 - PROGRESS: at 34.02% examples, 1384684 words/s, in_qsize 14, out_qsize 1\n",
      "2022-02-15 12:07:37,340 : INFO : EPOCH 20 - PROGRESS: at 53.05% examples, 1444241 words/s, in_qsize 15, out_qsize 0\n",
      "2022-02-15 12:07:38,348 : INFO : EPOCH 20 - PROGRESS: at 70.91% examples, 1447894 words/s, in_qsize 15, out_qsize 0\n",
      "2022-02-15 12:07:39,349 : INFO : EPOCH 20 - PROGRESS: at 90.10% examples, 1473070 words/s, in_qsize 13, out_qsize 2\n",
      "2022-02-15 12:07:39,833 : INFO : worker thread finished; awaiting finish of 7 more threads\n",
      "2022-02-15 12:07:39,835 : INFO : worker thread finished; awaiting finish of 6 more threads\n",
      "2022-02-15 12:07:39,835 : INFO : worker thread finished; awaiting finish of 5 more threads\n",
      "2022-02-15 12:07:39,837 : INFO : worker thread finished; awaiting finish of 4 more threads\n",
      "2022-02-15 12:07:39,839 : INFO : worker thread finished; awaiting finish of 3 more threads\n",
      "2022-02-15 12:07:39,850 : INFO : worker thread finished; awaiting finish of 2 more threads\n",
      "2022-02-15 12:07:39,853 : INFO : worker thread finished; awaiting finish of 1 more threads\n",
      "2022-02-15 12:07:39,854 : INFO : worker thread finished; awaiting finish of 0 more threads\n",
      "2022-02-15 12:07:39,855 : INFO : EPOCH - 20 : training on 9227204 raw words (8222803 effective words) took 5.5s, 1485076 effective words/s\n",
      "2022-02-15 12:07:40,907 : INFO : EPOCH 21 - PROGRESS: at 16.59% examples, 1341227 words/s, in_qsize 15, out_qsize 0\n",
      "2022-02-15 12:07:41,910 : INFO : EPOCH 21 - PROGRESS: at 34.24% examples, 1393111 words/s, in_qsize 15, out_qsize 0\n",
      "2022-02-15 12:07:42,920 : INFO : EPOCH 21 - PROGRESS: at 51.86% examples, 1408227 words/s, in_qsize 15, out_qsize 0\n",
      "2022-02-15 12:07:43,932 : INFO : EPOCH 21 - PROGRESS: at 69.39% examples, 1412798 words/s, in_qsize 15, out_qsize 0\n",
      "2022-02-15 12:07:44,932 : INFO : EPOCH 21 - PROGRESS: at 85.88% examples, 1400822 words/s, in_qsize 15, out_qsize 0\n",
      "2022-02-15 12:07:45,661 : INFO : worker thread finished; awaiting finish of 7 more threads\n",
      "2022-02-15 12:07:45,664 : INFO : worker thread finished; awaiting finish of 6 more threads\n",
      "2022-02-15 12:07:45,665 : INFO : worker thread finished; awaiting finish of 5 more threads\n",
      "2022-02-15 12:07:45,667 : INFO : worker thread finished; awaiting finish of 4 more threads\n",
      "2022-02-15 12:07:45,674 : INFO : worker thread finished; awaiting finish of 3 more threads\n",
      "2022-02-15 12:07:45,680 : INFO : worker thread finished; awaiting finish of 2 more threads\n",
      "2022-02-15 12:07:45,684 : INFO : worker thread finished; awaiting finish of 1 more threads\n",
      "2022-02-15 12:07:45,685 : INFO : worker thread finished; awaiting finish of 0 more threads\n",
      "2022-02-15 12:07:45,685 : INFO : EPOCH - 21 : training on 9227204 raw words (8222220 effective words) took 5.8s, 1418941 effective words/s\n",
      "2022-02-15 12:07:46,727 : INFO : EPOCH 22 - PROGRESS: at 16.92% examples, 1379559 words/s, in_qsize 15, out_qsize 0\n",
      "2022-02-15 12:07:47,737 : INFO : EPOCH 22 - PROGRESS: at 34.57% examples, 1408366 words/s, in_qsize 15, out_qsize 0\n",
      "2022-02-15 12:07:48,740 : INFO : EPOCH 22 - PROGRESS: at 52.29% examples, 1424560 words/s, in_qsize 14, out_qsize 1\n",
      "2022-02-15 12:07:49,741 : INFO : EPOCH 22 - PROGRESS: at 69.39% examples, 1420129 words/s, in_qsize 15, out_qsize 0\n",
      "2022-02-15 12:07:50,742 : INFO : EPOCH 22 - PROGRESS: at 87.07% examples, 1425879 words/s, in_qsize 15, out_qsize 0\n",
      "2022-02-15 12:07:51,426 : INFO : worker thread finished; awaiting finish of 7 more threads\n",
      "2022-02-15 12:07:51,426 : INFO : worker thread finished; awaiting finish of 6 more threads\n",
      "2022-02-15 12:07:51,429 : INFO : worker thread finished; awaiting finish of 5 more threads\n",
      "2022-02-15 12:07:51,430 : INFO : worker thread finished; awaiting finish of 4 more threads\n",
      "2022-02-15 12:07:51,436 : INFO : worker thread finished; awaiting finish of 3 more threads\n",
      "2022-02-15 12:07:51,443 : INFO : worker thread finished; awaiting finish of 2 more threads\n",
      "2022-02-15 12:07:51,444 : INFO : worker thread finished; awaiting finish of 1 more threads\n",
      "2022-02-15 12:07:51,445 : INFO : worker thread finished; awaiting finish of 0 more threads\n",
      "2022-02-15 12:07:51,445 : INFO : EPOCH - 22 : training on 9227204 raw words (8222260 effective words) took 5.7s, 1436119 effective words/s\n",
      "2022-02-15 12:07:52,479 : INFO : EPOCH 23 - PROGRESS: at 17.78% examples, 1454217 words/s, in_qsize 15, out_qsize 0\n",
      "2022-02-15 12:07:53,491 : INFO : EPOCH 23 - PROGRESS: at 35.00% examples, 1427695 words/s, in_qsize 16, out_qsize 3\n",
      "2022-02-15 12:07:54,499 : INFO : EPOCH 23 - PROGRESS: at 53.05% examples, 1443796 words/s, in_qsize 15, out_qsize 0\n",
      "2022-02-15 12:07:55,503 : INFO : EPOCH 23 - PROGRESS: at 69.83% examples, 1426649 words/s, in_qsize 15, out_qsize 0\n",
      "2022-02-15 12:07:56,506 : INFO : EPOCH 23 - PROGRESS: at 87.29% examples, 1427326 words/s, in_qsize 15, out_qsize 0\n",
      "2022-02-15 12:07:57,166 : INFO : worker thread finished; awaiting finish of 7 more threads\n"
     ]
    },
    {
     "name": "stderr",
     "output_type": "stream",
     "text": [
      "2022-02-15 12:07:57,172 : INFO : worker thread finished; awaiting finish of 6 more threads\n",
      "2022-02-15 12:07:57,174 : INFO : worker thread finished; awaiting finish of 5 more threads\n",
      "2022-02-15 12:07:57,177 : INFO : worker thread finished; awaiting finish of 4 more threads\n",
      "2022-02-15 12:07:57,184 : INFO : worker thread finished; awaiting finish of 3 more threads\n",
      "2022-02-15 12:07:57,190 : INFO : worker thread finished; awaiting finish of 2 more threads\n",
      "2022-02-15 12:07:57,191 : INFO : worker thread finished; awaiting finish of 1 more threads\n",
      "2022-02-15 12:07:57,194 : INFO : worker thread finished; awaiting finish of 0 more threads\n",
      "2022-02-15 12:07:57,195 : INFO : EPOCH - 23 : training on 9227204 raw words (8222694 effective words) took 5.7s, 1437762 effective words/s\n",
      "2022-02-15 12:07:58,260 : INFO : EPOCH 24 - PROGRESS: at 16.70% examples, 1341133 words/s, in_qsize 15, out_qsize 0\n",
      "2022-02-15 12:07:59,263 : INFO : EPOCH 24 - PROGRESS: at 35.00% examples, 1420621 words/s, in_qsize 15, out_qsize 0\n",
      "2022-02-15 12:08:00,273 : INFO : EPOCH 24 - PROGRESS: at 52.73% examples, 1429270 words/s, in_qsize 15, out_qsize 0\n",
      "2022-02-15 12:08:01,288 : INFO : EPOCH 24 - PROGRESS: at 70.91% examples, 1440783 words/s, in_qsize 15, out_qsize 0\n",
      "2022-02-15 12:08:02,291 : INFO : EPOCH 24 - PROGRESS: at 89.56% examples, 1457685 words/s, in_qsize 14, out_qsize 1\n",
      "2022-02-15 12:08:02,816 : INFO : worker thread finished; awaiting finish of 7 more threads\n",
      "2022-02-15 12:08:02,827 : INFO : worker thread finished; awaiting finish of 6 more threads\n",
      "2022-02-15 12:08:02,829 : INFO : worker thread finished; awaiting finish of 5 more threads\n",
      "2022-02-15 12:08:02,830 : INFO : worker thread finished; awaiting finish of 4 more threads\n",
      "2022-02-15 12:08:02,833 : INFO : worker thread finished; awaiting finish of 3 more threads\n",
      "2022-02-15 12:08:02,836 : INFO : worker thread finished; awaiting finish of 2 more threads\n",
      "2022-02-15 12:08:02,837 : INFO : worker thread finished; awaiting finish of 1 more threads\n",
      "2022-02-15 12:08:02,839 : INFO : worker thread finished; awaiting finish of 0 more threads\n",
      "2022-02-15 12:08:02,839 : INFO : EPOCH - 24 : training on 9227204 raw words (8222103 effective words) took 5.6s, 1467868 effective words/s\n",
      "2022-02-15 12:08:03,867 : INFO : EPOCH 25 - PROGRESS: at 16.48% examples, 1351066 words/s, in_qsize 12, out_qsize 3\n",
      "2022-02-15 12:08:04,879 : INFO : EPOCH 25 - PROGRESS: at 34.89% examples, 1424420 words/s, in_qsize 15, out_qsize 0\n",
      "2022-02-15 12:08:05,881 : INFO : EPOCH 25 - PROGRESS: at 51.53% examples, 1406030 words/s, in_qsize 15, out_qsize 0\n",
      "2022-02-15 12:08:06,901 : INFO : EPOCH 25 - PROGRESS: at 69.50% examples, 1417139 words/s, in_qsize 15, out_qsize 0\n",
      "2022-02-15 12:08:07,902 : INFO : EPOCH 25 - PROGRESS: at 86.75% examples, 1416536 words/s, in_qsize 15, out_qsize 0\n",
      "2022-02-15 12:08:08,565 : INFO : worker thread finished; awaiting finish of 7 more threads\n",
      "2022-02-15 12:08:08,573 : INFO : worker thread finished; awaiting finish of 6 more threads\n",
      "2022-02-15 12:08:08,575 : INFO : worker thread finished; awaiting finish of 5 more threads\n",
      "2022-02-15 12:08:08,575 : INFO : worker thread finished; awaiting finish of 4 more threads\n",
      "2022-02-15 12:08:08,576 : INFO : worker thread finished; awaiting finish of 3 more threads\n",
      "2022-02-15 12:08:08,578 : INFO : worker thread finished; awaiting finish of 2 more threads\n",
      "2022-02-15 12:08:08,582 : INFO : worker thread finished; awaiting finish of 1 more threads\n",
      "2022-02-15 12:08:08,584 : INFO : worker thread finished; awaiting finish of 0 more threads\n",
      "2022-02-15 12:08:08,584 : INFO : EPOCH - 25 : training on 9227204 raw words (8222082 effective words) took 5.7s, 1437546 effective words/s\n",
      "2022-02-15 12:08:09,606 : INFO : EPOCH 26 - PROGRESS: at 16.81% examples, 1380295 words/s, in_qsize 15, out_qsize 0\n",
      "2022-02-15 12:08:10,611 : INFO : EPOCH 26 - PROGRESS: at 34.03% examples, 1394664 words/s, in_qsize 14, out_qsize 1\n",
      "2022-02-15 12:08:11,634 : INFO : EPOCH 26 - PROGRESS: at 53.16% examples, 1444237 words/s, in_qsize 15, out_qsize 0\n",
      "2022-02-15 12:08:12,635 : INFO : EPOCH 26 - PROGRESS: at 71.02% examples, 1450143 words/s, in_qsize 15, out_qsize 0\n",
      "2022-02-15 12:08:13,645 : INFO : EPOCH 26 - PROGRESS: at 89.89% examples, 1467103 words/s, in_qsize 15, out_qsize 0\n",
      "2022-02-15 12:08:14,168 : INFO : worker thread finished; awaiting finish of 7 more threads\n",
      "2022-02-15 12:08:14,169 : INFO : worker thread finished; awaiting finish of 6 more threads\n",
      "2022-02-15 12:08:14,176 : INFO : worker thread finished; awaiting finish of 5 more threads\n",
      "2022-02-15 12:08:14,180 : INFO : worker thread finished; awaiting finish of 4 more threads\n",
      "2022-02-15 12:08:14,181 : INFO : worker thread finished; awaiting finish of 3 more threads\n",
      "2022-02-15 12:08:14,189 : INFO : worker thread finished; awaiting finish of 2 more threads\n",
      "2022-02-15 12:08:14,190 : INFO : worker thread finished; awaiting finish of 1 more threads\n",
      "2022-02-15 12:08:14,190 : INFO : worker thread finished; awaiting finish of 0 more threads\n",
      "2022-02-15 12:08:14,191 : INFO : EPOCH - 26 : training on 9227204 raw words (8222565 effective words) took 5.6s, 1472222 effective words/s\n",
      "2022-02-15 12:08:15,221 : INFO : EPOCH 27 - PROGRESS: at 16.48% examples, 1352777 words/s, in_qsize 15, out_qsize 0\n",
      "2022-02-15 12:08:16,226 : INFO : EPOCH 27 - PROGRESS: at 34.46% examples, 1412109 words/s, in_qsize 15, out_qsize 0\n",
      "2022-02-15 12:08:17,239 : INFO : EPOCH 27 - PROGRESS: at 52.07% examples, 1419225 words/s, in_qsize 15, out_qsize 0\n",
      "2022-02-15 12:08:18,245 : INFO : EPOCH 27 - PROGRESS: at 70.05% examples, 1432053 words/s, in_qsize 15, out_qsize 0\n",
      "2022-02-15 12:08:19,256 : INFO : EPOCH 27 - PROGRESS: at 89.23% examples, 1457518 words/s, in_qsize 15, out_qsize 0\n",
      "2022-02-15 12:08:19,831 : INFO : worker thread finished; awaiting finish of 7 more threads\n",
      "2022-02-15 12:08:19,835 : INFO : worker thread finished; awaiting finish of 6 more threads\n",
      "2022-02-15 12:08:19,837 : INFO : worker thread finished; awaiting finish of 5 more threads\n",
      "2022-02-15 12:08:19,837 : INFO : worker thread finished; awaiting finish of 4 more threads\n",
      "2022-02-15 12:08:19,840 : INFO : worker thread finished; awaiting finish of 3 more threads\n",
      "2022-02-15 12:08:19,842 : INFO : worker thread finished; awaiting finish of 2 more threads\n",
      "2022-02-15 12:08:19,851 : INFO : worker thread finished; awaiting finish of 1 more threads\n",
      "2022-02-15 12:08:19,852 : INFO : worker thread finished; awaiting finish of 0 more threads\n",
      "2022-02-15 12:08:19,853 : INFO : EPOCH - 27 : training on 9227204 raw words (8223097 effective words) took 5.6s, 1459692 effective words/s\n",
      "2022-02-15 12:08:20,873 : INFO : EPOCH 28 - PROGRESS: at 17.02% examples, 1390706 words/s, in_qsize 14, out_qsize 1\n",
      "2022-02-15 12:08:21,879 : INFO : EPOCH 28 - PROGRESS: at 34.57% examples, 1413185 words/s, in_qsize 14, out_qsize 1\n",
      "2022-02-15 12:08:22,886 : INFO : EPOCH 28 - PROGRESS: at 52.29% examples, 1425835 words/s, in_qsize 15, out_qsize 0\n",
      "2022-02-15 12:08:23,888 : INFO : EPOCH 28 - PROGRESS: at 69.40% examples, 1420722 words/s, in_qsize 13, out_qsize 2\n",
      "2022-02-15 12:08:24,893 : INFO : EPOCH 28 - PROGRESS: at 86.53% examples, 1416334 words/s, in_qsize 15, out_qsize 3\n",
      "2022-02-15 12:08:25,553 : INFO : worker thread finished; awaiting finish of 7 more threads\n",
      "2022-02-15 12:08:25,555 : INFO : worker thread finished; awaiting finish of 6 more threads\n",
      "2022-02-15 12:08:25,556 : INFO : worker thread finished; awaiting finish of 5 more threads\n",
      "2022-02-15 12:08:25,563 : INFO : worker thread finished; awaiting finish of 4 more threads\n",
      "2022-02-15 12:08:25,567 : INFO : worker thread finished; awaiting finish of 3 more threads\n",
      "2022-02-15 12:08:25,570 : INFO : worker thread finished; awaiting finish of 2 more threads\n",
      "2022-02-15 12:08:25,573 : INFO : worker thread finished; awaiting finish of 1 more threads\n",
      "2022-02-15 12:08:25,574 : INFO : worker thread finished; awaiting finish of 0 more threads\n",
      "2022-02-15 12:08:25,574 : INFO : EPOCH - 28 : training on 9227204 raw words (8222349 effective words) took 5.7s, 1440844 effective words/s\n",
      "2022-02-15 12:08:26,614 : INFO : EPOCH 29 - PROGRESS: at 17.57% examples, 1442295 words/s, in_qsize 15, out_qsize 0\n",
      "2022-02-15 12:08:27,645 : INFO : EPOCH 29 - PROGRESS: at 34.89% examples, 1412366 words/s, in_qsize 14, out_qsize 3\n"
     ]
    },
    {
     "name": "stderr",
     "output_type": "stream",
     "text": [
      "2022-02-15 12:08:28,652 : INFO : EPOCH 29 - PROGRESS: at 52.84% examples, 1431292 words/s, in_qsize 15, out_qsize 0\n",
      "2022-02-15 12:08:29,658 : INFO : EPOCH 29 - PROGRESS: at 71.24% examples, 1449426 words/s, in_qsize 15, out_qsize 0\n",
      "2022-02-15 12:08:30,674 : INFO : EPOCH 29 - PROGRESS: at 87.83% examples, 1427612 words/s, in_qsize 15, out_qsize 0\n",
      "2022-02-15 12:08:31,278 : INFO : worker thread finished; awaiting finish of 7 more threads\n",
      "2022-02-15 12:08:31,285 : INFO : worker thread finished; awaiting finish of 6 more threads\n",
      "2022-02-15 12:08:31,287 : INFO : worker thread finished; awaiting finish of 5 more threads\n",
      "2022-02-15 12:08:31,287 : INFO : worker thread finished; awaiting finish of 4 more threads\n",
      "2022-02-15 12:08:31,288 : INFO : worker thread finished; awaiting finish of 3 more threads\n",
      "2022-02-15 12:08:31,289 : INFO : worker thread finished; awaiting finish of 2 more threads\n",
      "2022-02-15 12:08:31,298 : INFO : worker thread finished; awaiting finish of 1 more threads\n",
      "2022-02-15 12:08:31,301 : INFO : worker thread finished; awaiting finish of 0 more threads\n",
      "2022-02-15 12:08:31,301 : INFO : EPOCH - 29 : training on 9227204 raw words (8222905 effective words) took 5.7s, 1445715 effective words/s\n",
      "2022-02-15 12:08:32,320 : INFO : EPOCH 30 - PROGRESS: at 17.78% examples, 1451112 words/s, in_qsize 15, out_qsize 0\n",
      "2022-02-15 12:08:33,321 : INFO : EPOCH 30 - PROGRESS: at 36.40% examples, 1491034 words/s, in_qsize 15, out_qsize 0\n",
      "2022-02-15 12:08:34,325 : INFO : EPOCH 30 - PROGRESS: at 54.78% examples, 1497255 words/s, in_qsize 15, out_qsize 0\n",
      "2022-02-15 12:08:35,326 : INFO : EPOCH 30 - PROGRESS: at 72.53% examples, 1487968 words/s, in_qsize 16, out_qsize 0\n",
      "2022-02-15 12:08:36,330 : INFO : EPOCH 30 - PROGRESS: at 90.87% examples, 1489984 words/s, in_qsize 14, out_qsize 1\n",
      "2022-02-15 12:08:36,760 : INFO : worker thread finished; awaiting finish of 7 more threads\n",
      "2022-02-15 12:08:36,765 : INFO : worker thread finished; awaiting finish of 6 more threads\n",
      "2022-02-15 12:08:36,766 : INFO : worker thread finished; awaiting finish of 5 more threads\n",
      "2022-02-15 12:08:36,773 : INFO : worker thread finished; awaiting finish of 4 more threads\n",
      "2022-02-15 12:08:36,774 : INFO : worker thread finished; awaiting finish of 3 more threads\n",
      "2022-02-15 12:08:36,782 : INFO : worker thread finished; awaiting finish of 2 more threads\n",
      "2022-02-15 12:08:36,784 : INFO : worker thread finished; awaiting finish of 1 more threads\n",
      "2022-02-15 12:08:36,786 : INFO : worker thread finished; awaiting finish of 0 more threads\n",
      "2022-02-15 12:08:36,786 : INFO : EPOCH - 30 : training on 9227204 raw words (8223605 effective words) took 5.5s, 1502820 effective words/s\n",
      "2022-02-15 12:08:37,811 : INFO : EPOCH 31 - PROGRESS: at 17.24% examples, 1413044 words/s, in_qsize 15, out_qsize 0\n",
      "2022-02-15 12:08:38,811 : INFO : EPOCH 31 - PROGRESS: at 34.78% examples, 1427950 words/s, in_qsize 15, out_qsize 0\n",
      "2022-02-15 12:08:39,819 : INFO : EPOCH 31 - PROGRESS: at 53.27% examples, 1456181 words/s, in_qsize 15, out_qsize 0\n",
      "2022-02-15 12:08:40,823 : INFO : EPOCH 31 - PROGRESS: at 70.59% examples, 1447028 words/s, in_qsize 14, out_qsize 1\n",
      "2022-02-15 12:08:41,827 : INFO : EPOCH 31 - PROGRESS: at 87.94% examples, 1441566 words/s, in_qsize 14, out_qsize 1\n",
      "2022-02-15 12:08:42,391 : INFO : worker thread finished; awaiting finish of 7 more threads\n",
      "2022-02-15 12:08:42,398 : INFO : worker thread finished; awaiting finish of 6 more threads\n",
      "2022-02-15 12:08:42,403 : INFO : worker thread finished; awaiting finish of 5 more threads\n",
      "2022-02-15 12:08:42,404 : INFO : worker thread finished; awaiting finish of 4 more threads\n",
      "2022-02-15 12:08:42,415 : INFO : worker thread finished; awaiting finish of 3 more threads\n",
      "2022-02-15 12:08:42,418 : INFO : worker thread finished; awaiting finish of 2 more threads\n",
      "2022-02-15 12:08:42,418 : INFO : worker thread finished; awaiting finish of 1 more threads\n",
      "2022-02-15 12:08:42,422 : INFO : worker thread finished; awaiting finish of 0 more threads\n",
      "2022-02-15 12:08:42,422 : INFO : EPOCH - 31 : training on 9227204 raw words (8223460 effective words) took 5.6s, 1464851 effective words/s\n",
      "2022-02-15 12:08:43,459 : INFO : EPOCH 32 - PROGRESS: at 16.38% examples, 1337373 words/s, in_qsize 13, out_qsize 2\n",
      "2022-02-15 12:08:44,467 : INFO : EPOCH 32 - PROGRESS: at 34.02% examples, 1389240 words/s, in_qsize 15, out_qsize 0\n",
      "2022-02-15 12:08:45,469 : INFO : EPOCH 32 - PROGRESS: at 52.29% examples, 1426749 words/s, in_qsize 15, out_qsize 0\n",
      "2022-02-15 12:08:46,471 : INFO : EPOCH 32 - PROGRESS: at 70.05% examples, 1434750 words/s, in_qsize 15, out_qsize 0\n",
      "2022-02-15 12:08:47,480 : INFO : EPOCH 32 - PROGRESS: at 88.59% examples, 1449594 words/s, in_qsize 15, out_qsize 0\n",
      "2022-02-15 12:08:48,041 : INFO : worker thread finished; awaiting finish of 7 more threads\n",
      "2022-02-15 12:08:48,043 : INFO : worker thread finished; awaiting finish of 6 more threads\n",
      "2022-02-15 12:08:48,044 : INFO : worker thread finished; awaiting finish of 5 more threads\n",
      "2022-02-15 12:08:48,045 : INFO : worker thread finished; awaiting finish of 4 more threads\n",
      "2022-02-15 12:08:48,049 : INFO : worker thread finished; awaiting finish of 3 more threads\n",
      "2022-02-15 12:08:48,053 : INFO : worker thread finished; awaiting finish of 2 more threads\n",
      "2022-02-15 12:08:48,055 : INFO : worker thread finished; awaiting finish of 1 more threads\n",
      "2022-02-15 12:08:48,060 : INFO : worker thread finished; awaiting finish of 0 more threads\n",
      "2022-02-15 12:08:48,061 : INFO : EPOCH - 32 : training on 9227204 raw words (8222902 effective words) took 5.6s, 1466339 effective words/s\n",
      "2022-02-15 12:08:48,061 : INFO : Word2Vec lifecycle event {'msg': 'training on 295270528 raw words (263127204 effective words) took 181.1s, 1453321 effective words/s', 'datetime': '2022-02-15T12:08:48.061796', 'gensim': '4.1.2', 'python': '3.10.0 | packaged by conda-forge | (default, Nov 10 2021, 13:20:59) [MSC v.1916 64 bit (AMD64)]', 'platform': 'Windows-10-10.0.19042-SP0', 'event': 'train'}\n"
     ]
    },
    {
     "name": "stdout",
     "output_type": "stream",
     "text": [
      "CPU times: total: 14min 58s\n",
      "Wall time: 3min 1s\n"
     ]
    },
    {
     "data": {
      "text/plain": [
       "(263127204, 295270528)"
      ]
     },
     "execution_count": 19,
     "metadata": {},
     "output_type": "execute_result"
    }
   ],
   "source": [
    "%%time\n",
    "w2v_model.train(documents, total_examples=len(documents), epochs=W2V_EPOCH)"
   ]
  },
  {
   "cell_type": "code",
   "execution_count": 20,
   "id": "ae5c50d4",
   "metadata": {
    "collapsed": true
   },
   "outputs": [
    {
     "data": {
      "text/plain": [
       "[('luv', 0.576731264591217),\n",
       " ('loves', 0.5561660528182983),\n",
       " ('loved', 0.5448465347290039),\n",
       " ('adore', 0.5223565101623535),\n",
       " ('looove', 0.5071671605110168),\n",
       " ('amazing', 0.5046908259391785),\n",
       " ('awesome', 0.4621043801307678),\n",
       " ('loveee', 0.45153793692588806),\n",
       " ('lovee', 0.45045822858810425),\n",
       " ('loooove', 0.43997275829315186)]"
      ]
     },
     "execution_count": 20,
     "metadata": {},
     "output_type": "execute_result"
    }
   ],
   "source": [
    "w2v_model.wv.most_similar(\"love\")"
   ]
  },
  {
   "cell_type": "code",
   "execution_count": 21,
   "id": "c6440a9e",
   "metadata": {
    "collapsed": true
   },
   "outputs": [
    {
     "name": "stdout",
     "output_type": "stream",
     "text": [
      "Total words 290419\n",
      "CPU times: total: 18.5 s\n",
      "Wall time: 18.6 s\n"
     ]
    }
   ],
   "source": [
    "%%time\n",
    "tokenizer = Tokenizer()\n",
    "tokenizer.fit_on_texts(df_train.text)\n",
    "\n",
    "vocab_size = len(tokenizer.word_index) + 1\n",
    "print(\"Total words\", vocab_size)"
   ]
  },
  {
   "cell_type": "code",
   "execution_count": 22,
   "id": "ebffa6ee",
   "metadata": {},
   "outputs": [
    {
     "name": "stdout",
     "output_type": "stream",
     "text": [
      "CPU times: total: 24 s\n",
      "Wall time: 24 s\n"
     ]
    }
   ],
   "source": [
    "%%time\n",
    "x_train = pad_sequences(tokenizer.texts_to_sequences(df_train.text), maxlen=SEQUENCE_LENGTH)\n",
    "x_test = pad_sequences(tokenizer.texts_to_sequences(df_test.text), maxlen=SEQUENCE_LENGTH)"
   ]
  },
  {
   "cell_type": "code",
   "execution_count": 23,
   "id": "e56a1427",
   "metadata": {
    "collapsed": true
   },
   "outputs": [
    {
     "data": {
      "text/plain": [
       "['POSITIVE', 'NEGATIVE', 'NEUTRAL']"
      ]
     },
     "execution_count": 23,
     "metadata": {},
     "output_type": "execute_result"
    }
   ],
   "source": [
    "labels = df_train.target.unique().tolist()\n",
    "labels.append(NEUTRAL)\n",
    "labels"
   ]
  },
  {
   "cell_type": "code",
   "execution_count": 24,
   "id": "50fa0f8d",
   "metadata": {
    "collapsed": true
   },
   "outputs": [
    {
     "name": "stdout",
     "output_type": "stream",
     "text": [
      "y_train (1280000, 1)\n",
      "y_test (320000, 1)\n"
     ]
    }
   ],
   "source": [
    "encoder = LabelEncoder()\n",
    "encoder.fit(df_train.target.tolist())\n",
    "\n",
    "y_train = encoder.transform(df_train.target.tolist())\n",
    "y_test = encoder.transform(df_test.target.tolist())\n",
    "\n",
    "y_train = y_train.reshape(-1,1)\n",
    "y_test = y_test.reshape(-1,1)\n",
    "\n",
    "print(\"y_train\",y_train.shape)\n",
    "print(\"y_test\",y_test.shape)"
   ]
  },
  {
   "cell_type": "code",
   "execution_count": 25,
   "id": "2d3b0b71",
   "metadata": {
    "collapsed": true
   },
   "outputs": [
    {
     "name": "stdout",
     "output_type": "stream",
     "text": [
      "x_train (1280000, 300)\n",
      "y_train (1280000, 1)\n",
      "\n",
      "x_test (320000, 300)\n",
      "y_test (320000, 1)\n"
     ]
    }
   ],
   "source": [
    "print(\"x_train\", x_train.shape)\n",
    "print(\"y_train\", y_train.shape)\n",
    "print()\n",
    "print(\"x_test\", x_test.shape)\n",
    "print(\"y_test\", y_test.shape)"
   ]
  },
  {
   "cell_type": "code",
   "execution_count": 26,
   "id": "8e702ee8",
   "metadata": {
    "collapsed": true
   },
   "outputs": [
    {
     "data": {
      "text/plain": [
       "array([[1],\n",
       "       [1],\n",
       "       [1],\n",
       "       [0],\n",
       "       [1],\n",
       "       [1],\n",
       "       [1],\n",
       "       [1],\n",
       "       [1],\n",
       "       [1]])"
      ]
     },
     "execution_count": 26,
     "metadata": {},
     "output_type": "execute_result"
    }
   ],
   "source": [
    "y_train[:10]"
   ]
  },
  {
   "cell_type": "code",
   "execution_count": 27,
   "id": "8d56478b",
   "metadata": {
    "collapsed": true
   },
   "outputs": [
    {
     "name": "stdout",
     "output_type": "stream",
     "text": [
      "(290419, 300)\n"
     ]
    }
   ],
   "source": [
    "embedding_matrix = np.zeros((vocab_size, W2V_SIZE))\n",
    "for word, i in tokenizer.word_index.items():\n",
    "  if word in w2v_model.wv:\n",
    "    embedding_matrix[i] = w2v_model.wv[word]\n",
    "print(embedding_matrix.shape)"
   ]
  },
  {
   "cell_type": "code",
   "execution_count": 28,
   "id": "697727bc",
   "metadata": {},
   "outputs": [],
   "source": [
    "embedding_layer = Embedding(vocab_size, W2V_SIZE, weights=[embedding_matrix], input_length=SEQUENCE_LENGTH, trainable=False)"
   ]
  },
  {
   "cell_type": "code",
   "execution_count": 29,
   "id": "677b0bb7",
   "metadata": {
    "collapsed": true
   },
   "outputs": [
    {
     "name": "stdout",
     "output_type": "stream",
     "text": [
      "Model: \"sequential\"\n",
      "_________________________________________________________________\n",
      " Layer (type)                Output Shape              Param #   \n",
      "=================================================================\n",
      " embedding (Embedding)       (None, 300, 300)          87125700  \n",
      "                                                                 \n",
      " dropout (Dropout)           (None, 300, 300)          0         \n",
      "                                                                 \n",
      " lstm (LSTM)                 (None, 100)               160400    \n",
      "                                                                 \n",
      " dense (Dense)               (None, 1)                 101       \n",
      "                                                                 \n",
      "=================================================================\n",
      "Total params: 87,286,201\n",
      "Trainable params: 160,501\n",
      "Non-trainable params: 87,125,700\n",
      "_________________________________________________________________\n"
     ]
    }
   ],
   "source": [
    "model = Sequential()\n",
    "model.add(embedding_layer)\n",
    "model.add(Dropout(0.5))\n",
    "model.add(LSTM(100, dropout=0.2, recurrent_dropout=0.2))\n",
    "model.add(Dense(1, activation='sigmoid'))\n",
    "\n",
    "model.summary()"
   ]
  },
  {
   "cell_type": "code",
   "execution_count": 30,
   "id": "493ff8fd",
   "metadata": {},
   "outputs": [],
   "source": [
    "model.compile(loss='binary_crossentropy', optimizer=\"adam\", metrics=['accuracy'])"
   ]
  },
  {
   "cell_type": "code",
   "execution_count": 31,
   "id": "517967af",
   "metadata": {},
   "outputs": [],
   "source": [
    "callbacks = [ ReduceLROnPlateau(monitor='val_loss', patience=5, cooldown=0), EarlyStopping(monitor='val_accuracy', min_delta=1e-4, patience=5)]"
   ]
  },
  {
   "cell_type": "code",
   "execution_count": 32,
   "id": "4c1ad877",
   "metadata": {
    "collapsed": true
   },
   "outputs": [
    {
     "name": "stdout",
     "output_type": "stream",
     "text": [
      "Epoch 1/8\n",
      "1125/1125 [==============================] - 9934s 9s/step - loss: 0.5036 - accuracy: 0.7506 - val_loss: 0.4665 - val_accuracy: 0.7788 - lr: 0.0010\n",
      "Epoch 2/8\n",
      "1125/1125 [==============================] - 10017s 9s/step - loss: 0.4781 - accuracy: 0.7679 - val_loss: 0.4554 - val_accuracy: 0.7846 - lr: 0.0010\n",
      "Epoch 3/8\n",
      "1125/1125 [==============================] - 9909s 9s/step - loss: 0.4709 - accuracy: 0.7723 - val_loss: 0.4525 - val_accuracy: 0.7870 - lr: 0.0010\n",
      "Epoch 4/8\n",
      "1125/1125 [==============================] - 10217s 9s/step - loss: 0.4684 - accuracy: 0.7742 - val_loss: 0.4512 - val_accuracy: 0.7883 - lr: 0.0010\n",
      "Epoch 5/8\n",
      "1125/1125 [==============================] - 10309s 9s/step - loss: 0.4650 - accuracy: 0.7760 - val_loss: 0.4494 - val_accuracy: 0.7886 - lr: 0.0010\n",
      "Epoch 6/8\n",
      "1125/1125 [==============================] - 9982s 9s/step - loss: 0.4628 - accuracy: 0.7777 - val_loss: 0.4473 - val_accuracy: 0.7902 - lr: 0.0010\n",
      "Epoch 7/8\n",
      "1125/1125 [==============================] - 9876s 9s/step - loss: 0.4619 - accuracy: 0.7780 - val_loss: 0.4482 - val_accuracy: 0.7905 - lr: 0.0010\n",
      "Epoch 8/8\n",
      "1125/1125 [==============================] - 10312s 9s/step - loss: 0.4609 - accuracy: 0.7785 - val_loss: 0.4470 - val_accuracy: 0.7910 - lr: 0.0010\n",
      "CPU times: total: 4d 1h 32min 24s\n",
      "Wall time: 22h 22min 39s\n"
     ]
    }
   ],
   "source": [
    "%%time\n",
    "history = model.fit(x_train, y_train, batch_size=BATCH_SIZE, epochs=EPOCHS, validation_split=0.1, verbose=1, callbacks=callbacks)"
   ]
  },
  {
   "cell_type": "code",
   "execution_count": 33,
   "id": "0ae55828",
   "metadata": {
    "collapsed": true
   },
   "outputs": [
    {
     "name": "stdout",
     "output_type": "stream",
     "text": [
      "313/313 [==============================] - 277s 882ms/step - loss: 0.4458 - accuracy: 0.7912\n",
      "\n",
      "ACCURACY: 0.7911937236785889\n",
      "LOSS: 0.44575709104537964\n",
      "CPU times: total: 26min 31s\n",
      "Wall time: 4min 37s\n"
     ]
    }
   ],
   "source": [
    "%%time\n",
    "score = model.evaluate(x_test, y_test, batch_size=BATCH_SIZE)\n",
    "print()\n",
    "print(\"ACCURACY:\",score[1])\n",
    "print(\"LOSS:\",score[0])"
   ]
  },
  {
   "cell_type": "code",
   "execution_count": 35,
   "id": "74c7aba6",
   "metadata": {
    "collapsed": true
   },
   "outputs": [
    {
     "data": {
      "image/png": "[encoded data removed]",
      "text/plain": [
       "<Figure size 432x288 with 1 Axes>"
      ]
     },
     "metadata": {
      "needs_background": "light"
     },
     "output_type": "display_data"
    },
    {
     "data": {
      "image/png": "[encoded data removed]",
      "text/plain": [
       "<Figure size 432x288 with 1 Axes>"
      ]
     },
     "metadata": {
      "needs_background": "light"
     },
     "output_type": "display_data"
    }
   ],
   "source": [
    "acc = history.history['accuracy']\n",
    "val_acc = history.history['val_accuracy']\n",
    "loss = history.history['loss']\n",
    "val_loss = history.history['val_loss']\n",
    " \n",
    "epochs = range(len(acc))\n",
    " \n",
    "plt.plot(epochs, acc, 'b', label='Training acc')\n",
    "plt.plot(epochs, val_acc, 'r', label='Validation acc')\n",
    "plt.title('Training and validation accuracy')\n",
    "plt.legend()\n",
    " \n",
    "plt.figure()\n",
    " \n",
    "plt.plot(epochs, loss, 'b', label='Training loss')\n",
    "plt.plot(epochs, val_loss, 'r', label='Validation loss')\n",
    "plt.title('Training and validation loss')\n",
    "plt.legend()\n",
    " \n",
    "plt.show()"
   ]
  },
  {
   "cell_type": "code",
   "execution_count": 36,
   "id": "0410e22e",
   "metadata": {},
   "outputs": [],
   "source": [
    "def decode_sentiment(score, include_neutral=True):\n",
    "    if include_neutral:        \n",
    "        label = NEUTRAL\n",
    "        if score <= SENTIMENT_THRESHOLDS[0]:\n",
    "            label = NEGATIVE\n",
    "        elif score >= SENTIMENT_THRESHOLDS[1]:\n",
    "            label = POSITIVE\n",
    "\n",
    "        return label\n",
    "    else:\n",
    "        return NEGATIVE if score < 0.5 else POSITIVE"
   ]
  },
  {
   "cell_type": "code",
   "execution_count": 37,
   "id": "f9581ca5",
   "metadata": {},
   "outputs": [],
   "source": [
    "def predict(text, include_neutral=True):\n",
    "    start_at = time.time()\n",
    "    # Tokenize text\n",
    "    x_test = pad_sequences(tokenizer.texts_to_sequences([text]), maxlen=SEQUENCE_LENGTH)\n",
    "    # Predict\n",
    "    score = model.predict([x_test])[0]\n",
    "    # Decode sentiment\n",
    "    label = decode_sentiment(score, include_neutral=include_neutral)\n",
    "\n",
    "    return {\"label\": label, \"score\": float(score),\n",
    "       \"elapsed_time\": time.time()-start_at} "
   ]
  },
  {
   "cell_type": "code",
   "execution_count": 38,
   "id": "6c21b881",
   "metadata": {
    "collapsed": true
   },
   "outputs": [
    {
     "data": {
      "text/plain": [
       "{'label': 'POSITIVE',\n",
       " 'score': 0.9837759733200073,\n",
       " 'elapsed_time': 0.4949796199798584}"
      ]
     },
     "execution_count": 38,
     "metadata": {},
     "output_type": "execute_result"
    }
   ],
   "source": [
    "predict(\"I love the music\")"
   ]
  },
  {
   "cell_type": "code",
   "execution_count": 55,
   "id": "5aaa7efd",
   "metadata": {},
   "outputs": [
    {
     "data": {
      "text/plain": [
       "{'label': 'POSITIVE',\n",
       " 'score': 0.8216348886489868,\n",
       " 'elapsed_time': 0.051543474197387695}"
      ]
     },
     "execution_count": 55,
     "metadata": {},
     "output_type": "execute_result"
    }
   ],
   "source": [
    "predict(\"I am not happy\")"
   ]
  },
  {
   "cell_type": "code",
   "execution_count": 56,
   "id": "a8394a53",
   "metadata": {},
   "outputs": [
    {
     "name": "stdout",
     "output_type": "stream",
     "text": [
      "40/40 [==============================] - 204s 5s/step\n",
      "CPU times: total: 26min 26s\n",
      "Wall time: 3min 24s\n"
     ]
    }
   ],
   "source": [
    "%%time\n",
    "y_pred_1d = []\n",
    "y_test_1d = list(df_test.target)\n",
    "scores = model.predict(x_test, verbose=1, batch_size=8000)\n",
    "y_pred_1d = [decode_sentiment(score, include_neutral=False) for score in scores]\n"
   ]
  },
  {
   "cell_type": "code",
   "execution_count": 57,
   "id": "5e8adc79",
   "metadata": {},
   "outputs": [],
   "source": [
    "def plot_confusion_matrix(cm, classes,\n",
    "                          title='Confusion matrix',\n",
    "                          cmap=plt.cm.Blues):\n",
    "    \"\"\"\n",
    "    This function prints and plots the confusion matrix.\n",
    "    Normalization can be applied by setting `normalize=True`.\n",
    "    \"\"\"\n",
    "\n",
    "    cm = cm.astype('float') / cm.sum(axis=1)[:, np.newaxis]\n",
    "\n",
    "    plt.imshow(cm, interpolation='nearest', cmap=cmap)\n",
    "    plt.title(title, fontsize=30)\n",
    "    plt.colorbar()\n",
    "    tick_marks = np.arange(len(classes))\n",
    "    plt.xticks(tick_marks, classes, rotation=90, fontsize=22)\n",
    "    plt.yticks(tick_marks, classes, fontsize=22)\n",
    "\n",
    "    fmt = '.2f'\n",
    "    thresh = cm.max() / 2.\n",
    "    for i, j in itertools.product(range(cm.shape[0]), range(cm.shape[1])):\n",
    "        plt.text(j, i, format(cm[i, j], fmt),\n",
    "                 horizontalalignment=\"center\",\n",
    "                 color=\"white\" if cm[i, j] > thresh else \"black\")\n",
    "\n",
    "    plt.ylabel('True label', fontsize=25)\n",
    "    plt.xlabel('Predicted label', fontsize=25)"
   ]
  },
  {
   "cell_type": "code",
   "execution_count": 58,
   "id": "3f33236a",
   "metadata": {
    "collapsed": true
   },
   "outputs": [
    {
     "data": {
      "image/png": "[encoded data removed]",
      "text/plain": [
       "<Figure size 864x864 with 2 Axes>"
      ]
     },
     "metadata": {
      "needs_background": "light"
     },
     "output_type": "display_data"
    },
    {
     "name": "stdout",
     "output_type": "stream",
     "text": [
      "CPU times: total: 1.27 s\n",
      "Wall time: 1.42 s\n"
     ]
    }
   ],
   "source": [
    "%%time\n",
    "\n",
    "cnf_matrix = confusion_matrix(y_test_1d, y_pred_1d)\n",
    "plt.figure(figsize=(12,12))\n",
    "plot_confusion_matrix(cnf_matrix, classes=df_train.target.unique(), title=\"Confusion matrix\")\n",
    "plt.show()"
   ]
  },
  {
   "cell_type": "code",
   "execution_count": 59,
   "id": "c18dc45e",
   "metadata": {
    "collapsed": true
   },
   "outputs": [
    {
     "name": "stdout",
     "output_type": "stream",
     "text": [
      "              precision    recall  f1-score   support\n",
      "\n",
      "    NEGATIVE       0.80      0.77      0.79    159494\n",
      "    POSITIVE       0.78      0.81      0.80    160506\n",
      "\n",
      "    accuracy                           0.79    320000\n",
      "   macro avg       0.79      0.79      0.79    320000\n",
      "weighted avg       0.79      0.79      0.79    320000\n",
      "\n"
     ]
    }
   ],
   "source": [
    "print(classification_report(y_test_1d, y_pred_1d))"
   ]
  },
  {
   "cell_type": "code",
   "execution_count": 60,
   "id": "2723d92a",
   "metadata": {},
   "outputs": [
    {
     "data": {
      "text/plain": [
       "0.79119375"
      ]
     },
     "execution_count": 60,
     "metadata": {},
     "output_type": "execute_result"
    }
   ],
   "source": [
    "accuracy_score(y_test_1d, y_pred_1d)"
   ]
  },
  {
   "cell_type": "code",
   "execution_count": 61,
   "id": "48abc65d",
   "metadata": {},
   "outputs": [
    {
     "name": "stderr",
     "output_type": "stream",
     "text": [
      "2022-02-16 11:39:10,861 : INFO : Word2Vec lifecycle event {'fname_or_handle': 'model.w2v', 'separately': 'None', 'sep_limit': 10485760, 'ignore': frozenset(), 'datetime': '2022-02-16T11:39:10.861398', 'gensim': '4.1.2', 'python': '3.10.0 | packaged by conda-forge | (default, Nov 10 2021, 13:20:59) [MSC v.1916 64 bit (AMD64)]', 'platform': 'Windows-10-10.0.19042-SP0', 'event': 'saving'}\n",
      "2022-02-16 11:39:10,897 : INFO : not storing attribute cum_table\n",
      "2022-02-16 11:39:11,723 : INFO : saved model.w2v\n"
     ]
    }
   ],
   "source": [
    "model.save(KERAS_MODEL)\n",
    "w2v_model.save(WORD2VEC_MODEL)\n",
    "pickle.dump(tokenizer, open(TOKENIZER_MODEL, \"wb\"), protocol=0)\n",
    "pickle.dump(encoder, open(ENCODER_MODEL, \"wb\"), protocol=0)"
   ]
  }
 ],
 "metadata": {
  "kernelspec": {
   "display_name": "py10",
   "language": "python",
   "name": "py10"
  },
  "language_info": {
   "codemirror_mode": {
    "name": "ipython",
    "version": 3
   },
   "file_extension": ".py",
   "mimetype": "text/x-python",
   "name": "python",
   "nbconvert_exporter": "python",
   "pygments_lexer": "ipython3",
   "version": "3.10.0"
  }
 },
 "nbformat": 4,
 "nbformat_minor": 5
}
